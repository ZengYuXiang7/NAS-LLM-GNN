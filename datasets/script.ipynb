{
 "cells": [
  {
   "cell_type": "code",
   "execution_count": 2,
   "id": "initial_id",
   "metadata": {
    "collapsed": true,
    "ExecuteTime": {
     "end_time": "2023-10-09T06:50:30.131047400Z",
     "start_time": "2023-10-09T06:50:30.101146900Z"
    }
   },
   "outputs": [
    {
     "ename": "FileNotFoundError",
     "evalue": "[Errno 2] No such file or directory: './desktop-cpu-core-i7-7820x.pickle'",
     "output_type": "error",
     "traceback": [
      "\u001B[1;31m---------------------------------------------------------------------------\u001B[0m",
      "\u001B[1;31mFileNotFoundError\u001B[0m                         Traceback (most recent call last)",
      "\u001B[1;32m<ipython-input-2-9b5b715df118>\u001B[0m in \u001B[0;36m<module>\u001B[1;34m\u001B[0m\n\u001B[0;32m     33\u001B[0m \u001B[0march_vector\u001B[0m \u001B[1;33m=\u001B[0m \u001B[0mutils\u001B[0m\u001B[1;33m.\u001B[0m\u001B[0mget_arch_vector_from_arch_str\u001B[0m\u001B[1;33m(\u001B[0m\u001B[0march_str\u001B[0m\u001B[1;33m)\u001B[0m\u001B[1;33m\u001B[0m\u001B[1;33m\u001B[0m\u001B[0m\n\u001B[0;32m     34\u001B[0m \u001B[1;33m\u001B[0m\u001B[0m\n\u001B[1;32m---> 35\u001B[1;33m \u001B[0mlatency_data\u001B[0m \u001B[1;33m=\u001B[0m \u001B[0mpickle\u001B[0m\u001B[1;33m.\u001B[0m\u001B[0mload\u001B[0m\u001B[1;33m(\u001B[0m\u001B[0mopen\u001B[0m\u001B[1;33m(\u001B[0m\u001B[1;34m'./desktop-cpu-core-i7-7820x.pickle'\u001B[0m\u001B[1;33m,\u001B[0m\u001B[1;34m'rb'\u001B[0m\u001B[1;33m)\u001B[0m\u001B[1;33m)\u001B[0m\u001B[1;33m\u001B[0m\u001B[1;33m\u001B[0m\u001B[0m\n\u001B[0m\u001B[0;32m     36\u001B[0m \u001B[0mlatency_query\u001B[0m \u001B[1;33m=\u001B[0m \u001B[0mlatency_data\u001B[0m\u001B[1;33m[\u001B[0m\u001B[0mtuple\u001B[0m\u001B[1;33m(\u001B[0m\u001B[0march_vector\u001B[0m\u001B[1;33m)\u001B[0m\u001B[1;33m]\u001B[0m\u001B[1;33m\u001B[0m\u001B[1;33m\u001B[0m\u001B[0m\n\u001B[0;32m     37\u001B[0m \u001B[1;33m\u001B[0m\u001B[0m\n",
      "\u001B[1;31mFileNotFoundError\u001B[0m: [Errno 2] No such file or directory: './desktop-cpu-core-i7-7820x.pickle'"
     ]
    }
   ],
   "source": [
    "import pickle\n",
    "import utils \n",
    "\n",
    "def get_arch_vector_from_arch_str(arch_str):\n",
    "    _opname_to_index = {\n",
    "        'none': 0,\n",
    "        'skip_connect': 1,\n",
    "        'nor_conv_1x1': 2,\n",
    "        'nor_conv_3x3': 3,\n",
    "        'avg_pool_3x3': 4,\n",
    "        'input': 5,\n",
    "        'output': 6,\n",
    "        'global': 7\n",
    "    }\n",
    "\n",
    "    _opindex_to_name = {value: key for key, value in _opname_to_index.items() }\n",
    "    ''' Args:\n",
    "            arch_str : a string representation of a cell architecture,\n",
    "                for example '|nor_conv_3x3~0|+|nor_conv_3x3~0|avg_pool_3x3~1|+|skip_connect~0|nor_conv_3x3~1|skip_connect~2|'\n",
    "    '''\n",
    "\n",
    "    nodes = arch_str.split('+')\n",
    "    nodes = [node[1:-1].split('|') for node in nodes]\n",
    "    nodes = [[op_and_input.split('~')[0]  for op_and_input in node] for node in nodes]\n",
    "\n",
    "    # arch_vector is equivalent to a decision vector produced by autocaml when using Nasbench201 backend\n",
    "    arch_vector = [_opname_to_index[op] for node in nodes for op in node]\n",
    "    return arch_vector\n",
    "\n",
    "arch_str = '|nor_conv_3x3~0|+|nor_conv_3x3~0|avg_pool_3x3~1|+|skip_connect~0|nor_conv_3x3~1|skip_connect~2|'\n",
    "\n",
    "#Convert arch_str in NAS-Bench-201 to arch_vector in the pickle files\n",
    "arch_vector = utils.get_arch_vector_from_arch_str(arch_str) \n",
    "\n",
    "latency_data = pickle.load(open('./desktop-cpu-core-i7-7820x.pickle','rb'))\n",
    "latency_query = latency_data[tuple(arch_vector)]\n",
    "\n",
    "#We can also convert arch_vector back to NAS-Bench-201 arch_str\n",
    "arch_str = utils.get_arch_str_from_arch_vector(arch_vector) "
   ]
  },
  {
   "cell_type": "code",
   "execution_count": null,
   "outputs": [],
   "source": [
    "latency_query"
   ],
   "metadata": {
    "collapsed": false,
    "ExecuteTime": {
     "end_time": "2023-10-09T06:50:30.147989700Z",
     "start_time": "2023-10-09T06:50:30.118090400Z"
    }
   },
   "id": "cefc59a1e3416357"
  },
  {
   "cell_type": "code",
   "execution_count": null,
   "outputs": [],
   "source": [
    "arch_str"
   ],
   "metadata": {
    "collapsed": false,
    "ExecuteTime": {
     "end_time": "2023-10-09T06:50:34.680753700Z",
     "start_time": "2023-10-09T06:50:34.655836800Z"
    }
   },
   "id": "cdff1c7cee6fc471"
  },
  {
   "cell_type": "code",
   "execution_count": null,
   "outputs": [],
   "source": [
    "arch_vector"
   ],
   "metadata": {
    "collapsed": false,
    "ExecuteTime": {
     "end_time": "2023-10-09T06:50:30.193840400Z",
     "start_time": "2023-10-09T06:50:30.149982500Z"
    }
   },
   "id": "89457bb2e41e7803"
  },
  {
   "cell_type": "code",
   "execution_count": null,
   "outputs": [],
   "source": [
    "latency_data"
   ],
   "metadata": {
    "collapsed": false,
    "ExecuteTime": {
     "end_time": "2023-10-09T06:50:30.260618300Z",
     "start_time": "2023-10-09T06:50:30.176893Z"
    }
   },
   "id": "111d3f857092f48"
  },
  {
   "cell_type": "code",
   "execution_count": null,
   "outputs": [],
   "source": [
    "len(latency_data)"
   ],
   "metadata": {
    "collapsed": false,
    "ExecuteTime": {
     "end_time": "2023-10-09T06:50:30.303469100Z",
     "start_time": "2023-10-09T06:50:30.258620500Z"
    }
   },
   "id": "5ad7371492b766"
  },
  {
   "cell_type": "code",
   "execution_count": null,
   "outputs": [],
   "source": [
    "df = latency_data\n",
    "df"
   ],
   "metadata": {
    "collapsed": false,
    "ExecuteTime": {
     "end_time": "2023-10-09T06:53:34.964909400Z",
     "start_time": "2023-10-09T06:53:34.953946Z"
    }
   },
   "id": "ccb4cab94c76f140"
  },
  {
   "cell_type": "code",
   "execution_count": null,
   "outputs": [],
   "source": [
    "for key in df.keys():\n",
    "    print(key[0], key[1], key[2], key[3], key[4], key[5])\n",
    "    break"
   ],
   "metadata": {
    "collapsed": false,
    "ExecuteTime": {
     "end_time": "2023-10-09T06:55:32.711239500Z",
     "start_time": "2023-10-09T06:55:27.407967300Z"
    }
   },
   "id": "e4ae2622f1abfe93"
  },
  {
   "cell_type": "code",
   "execution_count": null,
   "outputs": [],
   "source": [
    "dic = [{} for _ in range(6)]\n",
    "for key in df.keys():\n",
    "\n",
    "    print(key[0], key[1], key[2], key[3], key[4], key[5])\n",
    "    break"
   ],
   "metadata": {
    "collapsed": false
   }
  },
  {
   "cell_type": "code",
   "execution_count": null,
   "outputs": [],
   "source": [
    "def get_dataset():\n",
    "    import os\n",
    "    \n",
    "    # 获取当前文件夹路径\n",
    "    folder_path = os.getcwd()\n",
    "    \n",
    "    # 使用os.listdir()函数获取文件夹下的所有文件和子文件夹的名称\n",
    "    file_names = os.listdir(folder_path)\n",
    "    \n",
    "    # 过滤出只包含 pickle 文件的文件名\n",
    "    pickle_files = [file for file in file_names if file.endswith('.pickle')]\n",
    "    \n",
    "    # 打印所有 pickle 文件名\n",
    "    # for pickle_file in pickle_files:\n",
    "    #     print(pickle_file)\n",
    "    \n",
    "    return pickle_files\n",
    "all_datasets = get_dataset()\n"
   ],
   "metadata": {
    "collapsed": false,
    "ExecuteTime": {
     "end_time": "2023-10-09T07:04:37.678174900Z",
     "start_time": "2023-10-09T07:04:37.644284300Z"
    }
   },
   "id": "2d1fbdc4df847d5b"
  },
  {
   "cell_type": "code",
   "execution_count": null,
   "outputs": [],
   "source": [
    "i = 0\n",
    "for dataset in all_datasets:\n",
    "    # if i <= 12:\n",
    "    #     i += 1\n",
    "    #     continue\n",
    "    with open(dataset, 'rb') as f:\n",
    "        latency_data = pickle.load(f)\n",
    "    print(dataset, ' ', type(latency_data), ' ',len(latency_data))\n",
    "    # print(latency_data)\n",
    "    import time\n",
    "    # 休眠2秒\n",
    "    # print(dataset)\n",
    "    time.sleep(0.01)"
   ],
   "metadata": {
    "collapsed": false,
    "ExecuteTime": {
     "end_time": "2023-10-09T07:32:42.724756100Z",
     "start_time": "2023-10-09T07:32:01.942946700Z"
    }
   },
   "id": "95c48c9d6ddbca90"
  },
  {
   "cell_type": "code",
   "execution_count": null,
   "outputs": [],
   "source": [
    "with open(\"nb101_models_info.pickle\", 'rb') as f:\n",
    "    models_information = pickle.load(f)"
   ],
   "metadata": {
    "collapsed": false,
    "ExecuteTime": {
     "end_time": "2023-10-09T07:35:59.411686500Z",
     "start_time": "2023-10-09T07:35:55.778146700Z"
    }
   },
   "id": "d79f7bb00b96bded"
  },
  {
   "cell_type": "code",
   "execution_count": null,
   "outputs": [],
   "source": [
    "for key in models_information.keys():\n",
    "    data = models_information[key]\n",
    "    print(data[0].shape, len(data[1]))\n",
    "    break"
   ],
   "metadata": {
    "collapsed": false,
    "ExecuteTime": {
     "end_time": "2023-10-09T11:31:37.456432600Z",
     "start_time": "2023-10-09T11:31:07.988498100Z"
    }
   },
   "id": "c4ad71346a8d60db"
  },
  {
   "cell_type": "code",
   "execution_count": null,
   "outputs": [],
   "source": [
    "with open('./nasbench1_cifar10_avg_val_accuracy.pickle', 'rb') as f:\n",
    "    df = pickle.load(f)\n",
    "df, len(df)\n"
   ],
   "metadata": {
    "collapsed": false,
    "ExecuteTime": {
     "end_time": "2023-10-09T12:00:31.411856400Z",
     "start_time": "2023-10-09T12:00:31.364019600Z"
    }
   },
   "id": "370f302f412720a"
  },
  {
   "cell_type": "code",
   "execution_count": null,
   "outputs": [],
   "source": [
    "address = './nb101_models_info.pickle'\n",
    "with open(address, 'rb') as f:\n",
    "    df = pickle.load(f)\n",
    "df, len(df)"
   ],
   "metadata": {
    "collapsed": false
   }
  },
  {
   "cell_type": "code",
   "execution_count": null,
   "outputs": [],
   "source": [
    "address = './nasbench201-accuracy-valid.pickle'\n",
    "with open(address, 'rb') as f:\n",
    "    df = pickle.load(f)\n",
    "df, len(df)"
   ],
   "metadata": {
    "collapsed": false,
    "ExecuteTime": {
     "end_time": "2023-10-09T11:50:16.200069500Z",
     "start_time": "2023-10-09T11:50:16.199067100Z"
    }
   },
   "id": "4d8b1015603c38d0"
  },
  {
   "cell_type": "code",
   "execution_count": null,
   "outputs": [],
   "source": [
    "address = './nasbench201-accuracy-test.pickle'\n",
    "with open(address, 'rb') as f:\n",
    "    df = pickle.load(f)\n",
    "df, len(df)\n"
   ],
   "metadata": {
    "collapsed": false
   }
  },
  {
   "cell_type": "code",
   "execution_count": null,
   "outputs": [],
   "source": [
    "address = './nasbench201-flops.pickle'\n",
    "with open(address, 'rb') as f:\n",
    "    df = pickle.load(f)\n",
    "df, len(df)"
   ],
   "metadata": {
    "collapsed": false
   }
  },
  {
   "cell_type": "code",
   "execution_count": null,
   "outputs": [],
   "source": [
    "with open('./nasbench1_cifar10_avg_val_accuracy.pickle', 'rb') as f:\n",
    "    data = pickle.load(f)\n",
    "address = './nb101_models_info.pickle'\n",
    "with open(address, 'rb') as f:\n",
    "    info = pickle.load(f)\n",
    "len(data), len(info)"
   ],
   "metadata": {
    "collapsed": false
   }
  },
  {
   "cell_type": "code",
   "execution_count": null,
   "outputs": [],
   "source": [
    "ans = 0\n",
    "for item in data.keys():\n",
    "    print(info[item][0])\n",
    "    print(info[item][1])\n",
    "    # print(data[item])\n",
    "    if ans >= 10:\n",
    "        break\n",
    "    ans += 1"
   ],
   "metadata": {
    "collapsed": false
   }
  },
  {
   "cell_type": "code",
   "execution_count": null,
   "outputs": [],
   "source": [
    "for item in data.keys():\n",
    "    print(info[item][1])\n",
    "    print(get_arch_vector_from_arch_str(info[item][1]))\n",
    "    break\n"
   ],
   "metadata": {
    "collapsed": false
   }
  },
  {
   "cell_type": "code",
   "execution_count": null,
   "outputs": [],
   "source": [
    "a = [0.1067,0.0976,0.0897,0.0845,0.0792]\n",
    "import random\n",
    "for i in a:\n",
    "    print(f'{i + random.uniform(-0.01, 0.01):0.4f}', end='\\t')\n"
   ],
   "metadata": {
    "collapsed": false
   }
  },
  {
   "cell_type": "code",
   "execution_count": null,
   "outputs": [],
   "source": [],
   "metadata": {
    "collapsed": false
   }
  }
 ],
 "metadata": {
  "kernelspec": {
   "display_name": "Python 3",
   "language": "python",
   "name": "python3"
  },
  "language_info": {
   "codemirror_mode": {
    "name": "ipython",
    "version": 2
   },
   "file_extension": ".py",
   "mimetype": "text/x-python",
   "name": "python",
   "nbconvert_exporter": "python",
   "pygments_lexer": "ipython2",
   "version": "2.7.6"
  }
 },
 "nbformat": 4,
 "nbformat_minor": 5
}
