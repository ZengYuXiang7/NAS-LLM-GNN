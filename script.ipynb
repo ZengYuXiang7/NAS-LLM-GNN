{
 "cells": [
  {
   "cell_type": "code",
   "execution_count": 2,
   "id": "initial_id",
   "metadata": {
    "collapsed": true,
    "ExecuteTime": {
     "end_time": "2024-03-05T05:44:43.539552Z",
     "start_time": "2024-03-05T05:44:43.412357Z"
    }
   },
   "outputs": [
    {
     "name": "stdout",
     "output_type": "stream",
     "text": [
      "[[1. 0. 0. 0. 0. 0.]\n",
      " [0. 0. 0. 1. 0. 0.]\n",
      " [0. 0. 0. 0. 1. 0.]\n",
      " [0. 0. 0. 0. 0. 1.]\n",
      " [0. 0. 1. 0. 0. 0.]\n",
      " [0. 1. 0. 0. 0. 0.]]\n"
     ]
    }
   ],
   "source": [
    "import numpy as np \n",
    "lst = [1, 4, 5, 6, 3, 2]\n",
    "\n",
    "# 一次性热编码\n",
    "max_value = max(lst)\n",
    "one_hot_encoded = np.eye(max_value)[np.array(lst)-1]  # 减1以匹配0索引数组\n",
    "\n",
    "print(one_hot_encoded)"
   ]
  },
  {
   "cell_type": "code",
   "outputs": [
    {
     "name": "stdout",
     "output_type": "stream",
     "text": [
      "torch.Size([5, 7, 10])\n",
      "torch.Size([4, 5, 128])\n",
      "tensor([[-0.0259,  0.0098, -0.0230],\n",
      "        [-0.0358,  0.0197, -0.0207],\n",
      "        [-0.0359,  0.0245, -0.0201],\n",
      "        [-0.0367,  0.0136, -0.0197],\n",
      "        [-0.0369,  0.0122, -0.0131]], grad_fn=<AddmmBackward0>)\n"
     ]
    }
   ],
   "source": [
    "import torch\n",
    "import torch.nn as nn\n",
    "\n",
    "class BiRNN(nn.Module):\n",
    "    def __init__(self, input_size, hidden_size, num_layers, num_classes):\n",
    "        super(BiRNN, self).__init__()\n",
    "        # 初始化双向LSTM\n",
    "        self.hidden_size = hidden_size\n",
    "        self.num_layers = num_layers\n",
    "        self.lstm = nn.LSTM(input_size, hidden_size, num_layers, batch_first=True, bidirectional=True)\n",
    "        # 因为是双向，所以最后的全连接层输入尺寸是hidden_size的两倍\n",
    "        self.fc = nn.Linear(hidden_size * 2, num_classes)\n",
    "        \n",
    "    def forward(self, x):\n",
    "        # 设置初始的隐藏状态和细胞状态\n",
    "        h0 = torch.zeros(self.num_layers * 2, x.size(0), self.hidden_size).to(x.device) # 乘以2因为是双向\n",
    "        c0 = torch.zeros(self.num_layers * 2, x.size(0), self.hidden_size).to(x.device)\n",
    "        print(x.shape)\n",
    "        # 前向传播LSTM\n",
    "        out, _ = self.lstm(x, (h0, c0))\n",
    "        print(_[0].shape)\n",
    "        # 解码最后一个时间步的隐藏状态\n",
    "        out = self.fc(out[:, -1, :])\n",
    "        return out\n",
    "\n",
    "# 假设的参数\n",
    "input_size = 10  # 输入特征维度大小\n",
    "hidden_size = 128  # 隐藏层特征维度大小\n",
    "num_layers = 2  # LSTM层的数量\n",
    "num_classes = 3  # 输出的类别数\n",
    "\n",
    "# 创建模型实例\n",
    "model = BiRNN(input_size, hidden_size, num_layers, num_classes)\n",
    "\n",
    "# 假设输入数据，这里只是一个示例\n",
    "# 假设有一个批量大小为5，序列长度为7的输入，每个节点的特征向量大小为10\n",
    "x = torch.randn(5, 7, input_size)\n",
    "\n",
    "# 前向传播\n",
    "outputs = model(x)\n",
    "print(outputs)\n"
   ],
   "metadata": {
    "collapsed": false,
    "ExecuteTime": {
     "end_time": "2024-03-05T08:26:51.495649Z",
     "start_time": "2024-03-05T08:26:51.486455Z"
    }
   },
   "id": "c019808775446480",
   "execution_count": 6
  },
  {
   "cell_type": "code",
   "outputs": [
    {
     "name": "stdout",
     "output_type": "stream",
     "text": [
      "torch.float32 torch.float32\n",
      "torch.Size([1, 5, 10]) torch.Size([5, 5])\n",
      "tensor([[-0.0245,  0.0518, -0.0273]], grad_fn=<AddmmBackward0>)\n"
     ]
    }
   ],
   "source": [
    "import torch\n",
    "import torch.nn as nn\n",
    "\n",
    "class ARNN(nn.Module):\n",
    "    def __init__(self, input_size, hidden_size, num_layers, output_size):\n",
    "        super(ARNN, self).__init__()\n",
    "        self.rnn = nn.LSTM(input_size=input_size, hidden_size=hidden_size, num_layers=num_layers, bidirectional=True, batch_first=True)\n",
    "        self.fc = nn.Linear(hidden_size * 2, output_size)  # 因为是双向\n",
    "\n",
    "    def forward(self, x, adj_matrix):\n",
    "        # x: 节点特征矩阵，形状为(batch_size, num_nodes, feature_size)\n",
    "        # adj_matrix: 图的邻接矩阵，形状为(num_nodes, num_nodes)\n",
    "\n",
    "        updated_features = []\n",
    "        for i in range(x.size(1)):  # 遍历所有节点\n",
    "            neighbors_indices = (adj_matrix[i] > 0).nonzero(as_tuple=False).view(-1)\n",
    "            node_features = x[:, i, :]  # 当前节点特征\n",
    "            neighbor_features = [node_features.unsqueeze(0)]  # 包括节点自身，增加一个维度以匹配\n",
    "\n",
    "            for neighbor_index in neighbors_indices:\n",
    "                neighbor_features.append(x[:, neighbor_index, :].unsqueeze(0))  # 添加邻居节点特征\n",
    "\n",
    "            # 计算平均特征向量\n",
    "            neighbor_features = torch.cat(neighbor_features, dim=0)\n",
    "            avg_feature = torch.mean(neighbor_features, dim=0, keepdim=True)\n",
    "            updated_features.append(avg_feature.squeeze(0))  # 移除多余的维度\n",
    "\n",
    "        # 将更新后的特征向量堆叠为一个新的特征矩阵\n",
    "        updated_features = torch.stack(updated_features, dim=1)\n",
    "\n",
    "        # 经过RNN\n",
    "        out, _ = self.rnn(updated_features)\n",
    "        # 取最后的输出\n",
    "        out = self.fc(out[:, -1, :])\n",
    "        return out\n",
    "\n",
    "# 模型参数示例\n",
    "input_size = 10\n",
    "hidden_size = 128\n",
    "num_layers = 2\n",
    "output_size = 3\n",
    "\n",
    "# 创建模型实例\n",
    "arnn_model = ARNN(input_size, hidden_size, num_layers, output_size)\n",
    "\n",
    "# 示例输入\n",
    "batch_size = 1\n",
    "num_nodes = 5\n",
    "feature_size = 10\n",
    "x = torch.randn(batch_size, num_nodes, feature_size)\n",
    "\n",
    "# 示例邻接矩阵（这里需要根据实际计算图结构进行调整）\n",
    "adj_matrix = torch.tensor([\n",
    "    [0, 1, 1, 0, 0],\n",
    "    [1, 0, 0, 1, 0],\n",
    "    [1, 0, 0, 1, 1],\n",
    "    [0, 1, 1, 0, 0],\n",
    "    [0, 0, 1, 0, 0]\n",
    "], dtype=torch.float32)\n",
    "\n",
    "print(x.dtype, adj_matrix.dtype)\n",
    "print(x.shape, adj_matrix.shape)\n",
    "# 前向传播\n",
    "outputs = arnn_model(x, adj_matrix)\n",
    "print(outputs)\n"
   ],
   "metadata": {
    "collapsed": false,
    "ExecuteTime": {
     "end_time": "2024-03-05T14:42:53.665167Z",
     "start_time": "2024-03-05T14:42:53.648699Z"
    }
   },
   "id": "47f692a61317b42a",
   "execution_count": 6
  },
  {
   "cell_type": "code",
   "outputs": [],
   "source": [],
   "metadata": {
    "collapsed": false
   },
   "id": "74e4675eeb186b45"
  }
 ],
 "metadata": {
  "kernelspec": {
   "display_name": "Python 3",
   "language": "python",
   "name": "python3"
  },
  "language_info": {
   "codemirror_mode": {
    "name": "ipython",
    "version": 2
   },
   "file_extension": ".py",
   "mimetype": "text/x-python",
   "name": "python",
   "nbconvert_exporter": "python",
   "pygments_lexer": "ipython2",
   "version": "2.7.6"
  }
 },
 "nbformat": 4,
 "nbformat_minor": 5
}
