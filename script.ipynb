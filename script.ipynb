{
 "cells": [
  {
   "cell_type": "code",
   "outputs": [],
   "source": [
    "import torch"
   ],
   "metadata": {
    "collapsed": false,
    "ExecuteTime": {
     "start_time": "2024-01-17T07:23:35.762219Z"
    }
   },
   "execution_count": null
  },
  {
   "cell_type": "code",
   "outputs": [],
   "source": [
    "image = torch.rand(1, 3, 32, 32)\n",
    "image.shape"
   ],
   "metadata": {
    "collapsed": false,
    "ExecuteTime": {
     "start_time": "2024-01-17T07:23:35.763261Z"
    }
   },
   "execution_count": null
  },
  {
   "cell_type": "code",
   "outputs": [],
   "source": [
    "model1 = torch.nn.Sequential(\n",
    "    torch.nn.Conv2d(3, 1, kernel_size=1),  # 1 input channel, 1 output channel, kernel size of 1\n",
    "    torch.nn.BatchNorm2d(1),  # 1 feature from the previous layer\n",
    "    torch.nn.ReLU()\n",
    ")\n",
    "y = model1(image)\n",
    "y.shape"
   ],
   "metadata": {
    "collapsed": false,
    "ExecuteTime": {
     "start_time": "2024-01-17T07:23:35.763701Z"
    }
   },
   "execution_count": null
  },
  {
   "cell_type": "code",
   "outputs": [],
   "source": [
    "model2 = torch.nn.Sequential(\n",
    "    torch.nn.Conv2d(3, 1, kernel_size=3),  # 1 input channel, 1 output channel, kernel size of 3\n",
    "    torch.nn.BatchNorm2d(1),  # 1 feature from the previous layer\n",
    "    torch.nn.ReLU()\n",
    ")\n",
    "y = model2(image)\n",
    "y.shape"
   ],
   "metadata": {
    "collapsed": false,
    "ExecuteTime": {
     "start_time": "2024-01-17T07:23:35.764485Z"
    }
   },
   "execution_count": null
  },
  {
   "cell_type": "code",
   "outputs": [],
   "source": [
    "model3 = torch.nn.Sequential(\n",
    "    torch.nn.MaxPool2d(kernel_size=3),  # 1 feature from the previous layer\n",
    ")\n",
    "y = model3(image)\n",
    "y.shape"
   ],
   "metadata": {
    "collapsed": false,
    "ExecuteTime": {
     "start_time": "2024-01-17T07:23:35.765360Z"
    }
   },
   "execution_count": null
  },
  {
   "cell_type": "code",
   "outputs": [],
   "source": [
    "class model4:\n",
    "    def __init__(self):\n",
    "        pass\n",
    "    def __call__(self, x):\n",
    "        return x\n",
    "model4 = model4()\n",
    "y = model4(image)\n",
    "y.shape"
   ],
   "metadata": {
    "collapsed": false,
    "ExecuteTime": {
     "start_time": "2024-01-17T07:23:35.766170Z"
    }
   },
   "execution_count": null
  },
  {
   "cell_type": "code",
   "outputs": [],
   "source": [
    "from tqdm import *\n",
    "import time \n",
    "import numpy as np\n",
    "res = []\n",
    "for i in range(5):\n",
    "    now = []\n",
    "    for model in [model1, model2, model3, model4]:\n",
    "        model_latency = []\n",
    "        for i in trange(100000):\n",
    "            image = torch.rand(1, 3, 32, 32)\n",
    "            start_time = time.time()\n",
    "            y = model(image)\n",
    "            end_time = time.time()\n",
    "            model_latency.append(end_time - start_time)\n",
    "        model_latency = np.array(model_latency).mean()\n",
    "        now.append(model_latency)\n",
    "    res.append(now)\n",
    "res"
   ],
   "metadata": {
    "collapsed": false,
    "ExecuteTime": {
     "start_time": "2024-01-17T07:23:35.767042Z"
    }
   },
   "execution_count": null
  },
  {
   "cell_type": "code",
   "outputs": [],
   "source": [
    "ans = np.array(res)\n",
    "ans *= 1e5\n",
    "ans"
   ],
   "metadata": {
    "collapsed": false,
    "ExecuteTime": {
     "start_time": "2024-01-17T07:23:35.768135Z"
    }
   },
   "execution_count": null
  },
  {
   "cell_type": "code",
   "outputs": [],
   "source": [
    "ans = ans.mean(axis=0)\n",
    "ans"
   ],
   "metadata": {
    "collapsed": false,
    "ExecuteTime": {
     "start_time": "2024-01-17T07:23:35.768748Z"
    }
   },
   "execution_count": null
  },
  {
   "cell_type": "code",
   "outputs": [],
   "source": [
    "print(f\"{ans[0]:.3f}, {ans[1]:.3f}, {ans[2]:.3f}, {ans[3]:.3f}\")"
   ],
   "metadata": {
    "collapsed": false,
    "ExecuteTime": {
     "start_time": "2024-01-17T07:23:35.769232Z"
    }
   },
   "execution_count": null
  },
  {
   "cell_type": "code",
   "outputs": [
    {
     "ename": "NameError",
     "evalue": "name 'ans' is not defined",
     "output_type": "error",
     "traceback": [
      "\u001B[0;31m---------------------------------------------------------------------------\u001B[0m",
      "\u001B[0;31mNameError\u001B[0m                                 Traceback (most recent call last)",
      "\u001B[0;32m<ipython-input-2-71aab0386381>\u001B[0m in \u001B[0;36m<module>\u001B[0;34m\u001B[0m\n\u001B[0;32m----> 1\u001B[0;31m \u001B[0mans\u001B[0m \u001B[0;34m/=\u001B[0m \u001B[0mans\u001B[0m\u001B[0;34m.\u001B[0m\u001B[0mmax\u001B[0m\u001B[0;34m(\u001B[0m\u001B[0;34m)\u001B[0m\u001B[0;34m\u001B[0m\u001B[0;34m\u001B[0m\u001B[0m\n\u001B[0m\u001B[1;32m      2\u001B[0m \u001B[0mprint\u001B[0m\u001B[0;34m(\u001B[0m\u001B[0;34mf\"{ans[0]:.3f}, {ans[1]:.3f}, {ans[2]:.3f}, {ans[3]:.3f}\"\u001B[0m\u001B[0;34m)\u001B[0m\u001B[0;34m\u001B[0m\u001B[0;34m\u001B[0m\u001B[0m\n",
      "\u001B[0;31mNameError\u001B[0m: name 'ans' is not defined"
     ]
    }
   ],
   "source": [
    "ans /= ans.max()\n",
    "print(f\"{ans[0]:.3f}, {ans[1]:.3f}, {ans[2]:.3f}, {ans[3]:.3f}\")"
   ],
   "metadata": {
    "collapsed": false,
    "ExecuteTime": {
     "end_time": "2024-01-17T07:23:35.875714Z",
     "start_time": "2024-01-17T07:23:35.870761Z"
    }
   },
   "execution_count": 2
  },
  {
   "cell_type": "code",
   "outputs": [],
   "source": [
    "import torch\n",
    "import dgl\n",
    "\n",
    "# Step 1: Create a graph\n",
    "# Creating a simple graph with 5 nodes and a few edges\n",
    "edges = [(0, 1), (1, 2), (2, 3), (3, 4)]  # edge list\n",
    "g = dgl.graph(edges)\n",
    "g = dgl.add_self_loop(g)  # Optional: Adding self-loops\n",
    "\n",
    "# Step 2: Assign features to nodes\n",
    "# Assigning a 2-dimensional feature to each node\n",
    "features = torch.tensor([[1., 2.], [2., 3.], [3., 1.], [4., 5.], [5., 0.]])\n",
    "g.ndata['h'] = features\n",
    "\n",
    "\n",
    "# Step 4: Calculate mean node features using included nodes\n",
    "# Calculating mean node features for the specified nodes\n",
    "hg = dgl.mean_nodes(g, 'h')\n",
    "\n",
    "# Print the resulting tensor\n",
    "print(\"Mean of specified node features: \", hg)"
   ],
   "metadata": {
    "collapsed": false,
    "ExecuteTime": {
     "start_time": "2024-01-17T07:23:35.874582Z"
    }
   },
   "execution_count": null
  },
  {
   "cell_type": "code",
   "outputs": [],
   "source": [],
   "metadata": {
    "collapsed": false,
    "ExecuteTime": {
     "end_time": "2024-01-17T07:23:35.876260Z",
     "start_time": "2024-01-17T07:23:35.875819Z"
    }
   }
  }
 ],
 "metadata": {
  "kernelspec": {
   "display_name": "Python 3",
   "language": "python",
   "name": "python3"
  },
  "language_info": {
   "codemirror_mode": {
    "name": "ipython",
    "version": 2
   },
   "file_extension": ".py",
   "mimetype": "text/x-python",
   "name": "python",
   "nbconvert_exporter": "python",
   "pygments_lexer": "ipython2",
   "version": "2.7.6"
  }
 },
 "nbformat": 4,
 "nbformat_minor": 0
}
