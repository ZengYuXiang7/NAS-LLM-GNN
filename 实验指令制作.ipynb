{
 "cells": [
  {
   "cell_type": "code",
   "outputs": [
    {
     "data": {
      "text/plain": "0.0576"
     },
     "execution_count": 4,
     "metadata": {},
     "output_type": "execute_result"
    }
   ],
   "source": [
    "900 / (5 ** 6)"
   ],
   "metadata": {
    "collapsed": false,
    "ExecuteTime": {
     "end_time": "2024-02-12T13:37:16.592834Z",
     "start_time": "2024-02-12T13:37:16.589470Z"
    }
   },
   "execution_count": 4
  },
  {
   "cell_type": "code",
   "outputs": [
    {
     "name": "stdout",
     "output_type": "stream",
     "text": [
      "2024-03-01 15:07:06 \"3.1 Run_machinelearning.sh\" 文件保存成功!\n"
     ]
    }
   ],
   "source": [
    "from utils.utils import create_sh_file\n",
    "order = []\n",
    "for dataset in ['cpu', 'gpu']:\n",
    "    for density in [0.01, 0.02, 0.03, 0.04, 0.05]:\n",
    "        string = f'python run_mlp.py --rounds {5} '\n",
    "        string += f'--density {density} '\n",
    "        string += f'--dataset {dataset} '\n",
    "        string += f'--experiment {1} --record {1}'\n",
    "        order.append(string)\n",
    "    order.append('   ')\n",
    "create_sh_file(order, 'Run_machinelearning')"
   ],
   "metadata": {
    "collapsed": false,
    "ExecuteTime": {
     "end_time": "2024-03-01T07:07:06.956604Z",
     "start_time": "2024-03-01T07:07:06.954065Z"
    }
   },
   "execution_count": 3
  },
  {
   "cell_type": "code",
   "outputs": [
    {
     "name": "stdout",
     "output_type": "stream",
     "text": [
      "2024-03-01 15:08:30 \"3.1 Run_mlp.sh\" 文件保存成功!\n"
     ]
    }
   ],
   "source": [
    "from utils.utils import create_sh_file\n",
    "order = []\n",
    "for dim in [32]:\n",
    "    for dataset in ['cpu', 'gpu']:\n",
    "        for density in [0.01, 0.02, 0.03, 0.04, 0.05]:\n",
    "            string = f'python run_llm_gcn.py --rounds {5} '\n",
    "            string += f'--density {density} '\n",
    "            string += f'--dataset {dataset} '\n",
    "            string += f'--epochs {300} '\n",
    "            string += f'--bs {8} --lr {4e-4} --decay {5e-4} '\n",
    "            string += f'--program_test {1} '\n",
    "            string += f'--dimension {dim} '\n",
    "            string += f'--experiment {1} --record {1}'\n",
    "            order.append(string)\n",
    "        order.append('   ')\n",
    "\n",
    "create_sh_file(order, 'Run_mlp')\n"
   ],
   "metadata": {
    "collapsed": false,
    "ExecuteTime": {
     "end_time": "2024-03-01T07:08:30.303907Z",
     "start_time": "2024-03-01T07:08:30.301189Z"
    }
   },
   "execution_count": 7
  },
  {
   "cell_type": "code",
   "outputs": [],
   "source": [],
   "metadata": {
    "collapsed": false
   }
  }
 ],
 "metadata": {
  "kernelspec": {
   "display_name": "Python 3",
   "language": "python",
   "name": "python3"
  },
  "language_info": {
   "codemirror_mode": {
    "name": "ipython",
    "version": 2
   },
   "file_extension": ".py",
   "mimetype": "text/x-python",
   "name": "python",
   "nbconvert_exporter": "python",
   "pygments_lexer": "ipython2",
   "version": "2.7.6"
  }
 },
 "nbformat": 4,
 "nbformat_minor": 0
}
