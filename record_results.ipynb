{
 "cells": [
  {
   "cell_type": "code",
   "outputs": [],
   "source": [
    "import pickle\n",
    "import numpy as np\n",
    "import pandas as pd\n",
    "import os "
   ],
   "metadata": {
    "collapsed": false,
    "ExecuteTime": {
     "end_time": "2024-03-09T07:30:21.135834Z",
     "start_time": "2024-03-09T07:30:21.124137Z"
    }
   },
   "id": "d1950828c23c4c55",
   "execution_count": 13
  },
  {
   "cell_type": "code",
   "outputs": [
    {
     "data": {
      "text/plain": "['cpu']"
     },
     "execution_count": 14,
     "metadata": {},
     "output_type": "execute_result"
    }
   ],
   "source": [
    "datasets = ['cpu']\n",
    "datasets"
   ],
   "metadata": {
    "collapsed": false,
    "ExecuteTime": {
     "end_time": "2024-03-09T07:30:21.150829Z",
     "start_time": "2024-03-09T07:30:21.137360Z"
    }
   },
   "id": "1ea80bb6e619c25d",
   "execution_count": 14
  },
  {
   "cell_type": "code",
   "outputs": [
    {
     "data": {
      "text/plain": "['0.01', '0.02', '0.03', '0.04', '0.05']"
     },
     "execution_count": 15,
     "metadata": {},
     "output_type": "execute_result"
    }
   ],
   "source": [
    "densitys = [str(item * 0.01) for item in range(1, 5 + 1)]\n",
    "densitys"
   ],
   "metadata": {
    "collapsed": false,
    "ExecuteTime": {
     "end_time": "2024-03-09T07:30:21.166877Z",
     "start_time": "2024-03-09T07:30:21.153323Z"
    }
   },
   "id": "a925a5398aae8f31",
   "execution_count": 15
  },
  {
   "cell_type": "code",
   "outputs": [
    {
     "data": {
      "text/plain": "['32']"
     },
     "execution_count": 16,
     "metadata": {},
     "output_type": "execute_result"
    }
   ],
   "source": [
    "dimensions = ['32']\n",
    "dimensions"
   ],
   "metadata": {
    "collapsed": false,
    "ExecuteTime": {
     "end_time": "2024-03-09T07:30:21.191548Z",
     "start_time": "2024-03-09T07:30:21.156432Z"
    }
   },
   "id": "e2e993a7f05d4154",
   "execution_count": 16
  },
  {
   "cell_type": "code",
   "outputs": [
    {
     "data": {
      "text/plain": "['Machine_learning', 'MLP', 'LSTM', 'GRU', 'BIRNN', 'ARNN', 'BPR-NAS', 'CF']"
     },
     "execution_count": 17,
     "metadata": {},
     "output_type": "execute_result"
    }
   ],
   "source": [
    "models = [\n",
    "    'Machine_learning',\n",
    "    'MLP',\n",
    "    'LSTM',\n",
    "    'GRU',\n",
    "    'BIRNN',\n",
    "    'ARNN',\n",
    "    'BPR-NAS',\n",
    "    'CF'\n",
    "]\n",
    "models"
   ],
   "metadata": {
    "collapsed": false,
    "ExecuteTime": {
     "end_time": "2024-03-09T07:30:21.192149Z",
     "start_time": "2024-03-09T07:30:21.159988Z"
    }
   },
   "id": "6b608f28bc23cca0",
   "execution_count": 17
  },
  {
   "cell_type": "code",
   "outputs": [],
   "source": [
    "def get_table(dataset):\n",
    "    metrics = np.zeros((8, 10))\n",
    "    for i, model in enumerate(models):\n",
    "        # print(i, model)\n",
    "        for j, density in enumerate(densitys):\n",
    "            for dimension in dimensions:\n",
    "                \n",
    "                # 读取结果 NMAE\n",
    "                address = './results/metrics/' + model + '_' + dataset + '_' + density \n",
    "                if model == 'Machine_learning':\n",
    "                    NMAE = address + 'GradientBoostingRegressor_NMAEmean.pkl'\n",
    "                else:\n",
    "                    NMAE = address + '_' + dimension + 'NMAEmean.pkl'\n",
    "                try:\n",
    "                    with open(NMAE, 'rb') as f:\n",
    "                        results = pickle.load(f)\n",
    "                    # print(results)\n",
    "                except:\n",
    "                    print(f'{address} 无法读取!')\n",
    "                    continue\n",
    "                \n",
    "                # 装载数据 NMAE\n",
    "                metrics[i, j] = results\n",
    "                \n",
    "                # 读取结果 NRMSE\n",
    "                address = './results/metrics/' + model + '_' + dataset + '_' + density \n",
    "                if model == 'Machine_learning':\n",
    "                    NRMSE = address + 'GradientBoostingRegressor_NRMSEmean.pkl'\n",
    "                else:\n",
    "                    NRMSE = address + '_' + dimension + 'NRMSEmean.pkl'\n",
    "                try:\n",
    "                    with open(NRMSE, 'rb') as f:\n",
    "                        results = pickle.load(f)\n",
    "                    # print(results)\n",
    "                except:\n",
    "                    print(f'{address} 无法读取!')\n",
    "                    continue\n",
    "                    \n",
    "                # 装载数据 NRMSE\n",
    "                metrics[i, j + 5] = results\n",
    "                \n",
    "    df = pd.DataFrame(metrics)\n",
    "    cols = []\n",
    "    for acc in ['NMAE', 'NRMSE']:\n",
    "        for density in densitys:\n",
    "            cols.append(f'{acc}:{density}')\n",
    "    df.columns = cols\n",
    "    df.index = models\n",
    "    return df\n"
   ],
   "metadata": {
    "collapsed": false,
    "ExecuteTime": {
     "end_time": "2024-03-09T07:30:21.193378Z",
     "start_time": "2024-03-09T07:30:21.165703Z"
    }
   },
   "id": "fe104cf337841a9b",
   "execution_count": 18
  },
  {
   "cell_type": "code",
   "outputs": [
    {
     "data": {
      "text/plain": "                  NMAE:0.01  NMAE:0.02  NMAE:0.03  NMAE:0.04  NMAE:0.05  \\\nMachine_learning   0.082434   0.062682   0.056331   0.048836   0.043594   \nMLP                0.217414   0.144046   0.136780   0.120885   0.116724   \nLSTM               0.153567   0.124664   0.114413   0.077173   0.074324   \nGRU                0.222313   0.210307   0.203185   0.195348   0.193053   \nBIRNN              0.222611   0.211711   0.205310   0.201727   0.198495   \nARNN               0.092334   0.077860   0.070546   0.066808   0.053407   \nBPR-NAS            0.066853   0.045140   0.037319   0.030994   0.028083   \nCF                 0.054207   0.037178   0.033978   0.029822   0.027299   \n\n                  NRMSE:0.01  NRMSE:0.02  NRMSE:0.03  NRMSE:0.04  NRMSE:0.05  \nMachine_learning    0.106322    0.082770    0.070903    0.063148    0.056331  \nMLP                 0.333498    0.189843    0.174201    0.147454    0.141909  \nLSTM                0.187084    0.151769    0.138844    0.096685    0.092988  \nGRU                 0.264225    0.250765    0.242598    0.234899    0.233005  \nBIRNN               0.266472    0.254477    0.247201    0.243010    0.239591  \nARNN                0.110743    0.095842    0.089389    0.085988    0.069828  \nBPR-NAS             0.089602    0.065223    0.053356    0.045002    0.040928  \nCF                  0.071099    0.051067    0.046774    0.042267    0.039721  ",
      "text/html": "<div>\n<style scoped>\n    .dataframe tbody tr th:only-of-type {\n        vertical-align: middle;\n    }\n\n    .dataframe tbody tr th {\n        vertical-align: top;\n    }\n\n    .dataframe thead th {\n        text-align: right;\n    }\n</style>\n<table border=\"1\" class=\"dataframe\">\n  <thead>\n    <tr style=\"text-align: right;\">\n      <th></th>\n      <th>NMAE:0.01</th>\n      <th>NMAE:0.02</th>\n      <th>NMAE:0.03</th>\n      <th>NMAE:0.04</th>\n      <th>NMAE:0.05</th>\n      <th>NRMSE:0.01</th>\n      <th>NRMSE:0.02</th>\n      <th>NRMSE:0.03</th>\n      <th>NRMSE:0.04</th>\n      <th>NRMSE:0.05</th>\n    </tr>\n  </thead>\n  <tbody>\n    <tr>\n      <th>Machine_learning</th>\n      <td>0.082434</td>\n      <td>0.062682</td>\n      <td>0.056331</td>\n      <td>0.048836</td>\n      <td>0.043594</td>\n      <td>0.106322</td>\n      <td>0.082770</td>\n      <td>0.070903</td>\n      <td>0.063148</td>\n      <td>0.056331</td>\n    </tr>\n    <tr>\n      <th>MLP</th>\n      <td>0.217414</td>\n      <td>0.144046</td>\n      <td>0.136780</td>\n      <td>0.120885</td>\n      <td>0.116724</td>\n      <td>0.333498</td>\n      <td>0.189843</td>\n      <td>0.174201</td>\n      <td>0.147454</td>\n      <td>0.141909</td>\n    </tr>\n    <tr>\n      <th>LSTM</th>\n      <td>0.153567</td>\n      <td>0.124664</td>\n      <td>0.114413</td>\n      <td>0.077173</td>\n      <td>0.074324</td>\n      <td>0.187084</td>\n      <td>0.151769</td>\n      <td>0.138844</td>\n      <td>0.096685</td>\n      <td>0.092988</td>\n    </tr>\n    <tr>\n      <th>GRU</th>\n      <td>0.222313</td>\n      <td>0.210307</td>\n      <td>0.203185</td>\n      <td>0.195348</td>\n      <td>0.193053</td>\n      <td>0.264225</td>\n      <td>0.250765</td>\n      <td>0.242598</td>\n      <td>0.234899</td>\n      <td>0.233005</td>\n    </tr>\n    <tr>\n      <th>BIRNN</th>\n      <td>0.222611</td>\n      <td>0.211711</td>\n      <td>0.205310</td>\n      <td>0.201727</td>\n      <td>0.198495</td>\n      <td>0.266472</td>\n      <td>0.254477</td>\n      <td>0.247201</td>\n      <td>0.243010</td>\n      <td>0.239591</td>\n    </tr>\n    <tr>\n      <th>ARNN</th>\n      <td>0.092334</td>\n      <td>0.077860</td>\n      <td>0.070546</td>\n      <td>0.066808</td>\n      <td>0.053407</td>\n      <td>0.110743</td>\n      <td>0.095842</td>\n      <td>0.089389</td>\n      <td>0.085988</td>\n      <td>0.069828</td>\n    </tr>\n    <tr>\n      <th>BPR-NAS</th>\n      <td>0.066853</td>\n      <td>0.045140</td>\n      <td>0.037319</td>\n      <td>0.030994</td>\n      <td>0.028083</td>\n      <td>0.089602</td>\n      <td>0.065223</td>\n      <td>0.053356</td>\n      <td>0.045002</td>\n      <td>0.040928</td>\n    </tr>\n    <tr>\n      <th>CF</th>\n      <td>0.054207</td>\n      <td>0.037178</td>\n      <td>0.033978</td>\n      <td>0.029822</td>\n      <td>0.027299</td>\n      <td>0.071099</td>\n      <td>0.051067</td>\n      <td>0.046774</td>\n      <td>0.042267</td>\n      <td>0.039721</td>\n    </tr>\n  </tbody>\n</table>\n</div>"
     },
     "execution_count": 19,
     "metadata": {},
     "output_type": "execute_result"
    }
   ],
   "source": [
    "metrics = get_table('cpu')\n",
    "metrics"
   ],
   "metadata": {
    "collapsed": false,
    "ExecuteTime": {
     "end_time": "2024-03-09T07:30:21.194909Z",
     "start_time": "2024-03-09T07:30:21.169202Z"
    }
   },
   "id": "9dc81c8039023332",
   "execution_count": 19
  },
  {
   "cell_type": "code",
   "outputs": [
    {
     "data": {
      "text/plain": "                  NMAE:0.01  NMAE:0.02  NMAE:0.03  NMAE:0.04  NMAE:0.05  \\\nMachine_learning   0.099678   0.070335   0.057751   0.050897   0.048253   \nMLP                0.184664   0.158371   0.148378   0.142653   0.130642   \nLSTM               0.155776   0.145843   0.140279   0.134698   0.128796   \nGRU                0.213263   0.208554   0.204334   0.202392   0.201139   \nBIRNN              0.216283   0.210001   0.207442   0.206399   0.204946   \nARNN               0.121218   0.119081   0.117825   0.117403   0.117088   \nBPR-NAS            0.127152   0.128591   0.124845   0.121621   0.119327   \nCF                 0.046896   0.035252   0.031753   0.029302   0.027833   \n\n                  NRMSE:0.01  NRMSE:0.02  NRMSE:0.03  NRMSE:0.04  NRMSE:0.05  \nMachine_learning    0.120564    0.086578    0.071238    0.062990    0.059253  \nMLP                 0.245595    0.192082    0.180472    0.173252    0.158498  \nLSTM                0.184631    0.173658    0.167264    0.160566    0.153537  \nGRU                 0.252234    0.246527    0.242547    0.240425    0.238952  \nBIRNN               0.256701    0.249223    0.246463    0.245248    0.243219  \nARNN                0.151709    0.150488    0.150074    0.148220    0.149311  \nBPR-NAS             0.160523    0.161091    0.158129    0.156331    0.153737  \nCF                  0.062624    0.047190    0.042951    0.039981    0.038151  ",
      "text/html": "<div>\n<style scoped>\n    .dataframe tbody tr th:only-of-type {\n        vertical-align: middle;\n    }\n\n    .dataframe tbody tr th {\n        vertical-align: top;\n    }\n\n    .dataframe thead th {\n        text-align: right;\n    }\n</style>\n<table border=\"1\" class=\"dataframe\">\n  <thead>\n    <tr style=\"text-align: right;\">\n      <th></th>\n      <th>NMAE:0.01</th>\n      <th>NMAE:0.02</th>\n      <th>NMAE:0.03</th>\n      <th>NMAE:0.04</th>\n      <th>NMAE:0.05</th>\n      <th>NRMSE:0.01</th>\n      <th>NRMSE:0.02</th>\n      <th>NRMSE:0.03</th>\n      <th>NRMSE:0.04</th>\n      <th>NRMSE:0.05</th>\n    </tr>\n  </thead>\n  <tbody>\n    <tr>\n      <th>Machine_learning</th>\n      <td>0.099678</td>\n      <td>0.070335</td>\n      <td>0.057751</td>\n      <td>0.050897</td>\n      <td>0.048253</td>\n      <td>0.120564</td>\n      <td>0.086578</td>\n      <td>0.071238</td>\n      <td>0.062990</td>\n      <td>0.059253</td>\n    </tr>\n    <tr>\n      <th>MLP</th>\n      <td>0.184664</td>\n      <td>0.158371</td>\n      <td>0.148378</td>\n      <td>0.142653</td>\n      <td>0.130642</td>\n      <td>0.245595</td>\n      <td>0.192082</td>\n      <td>0.180472</td>\n      <td>0.173252</td>\n      <td>0.158498</td>\n    </tr>\n    <tr>\n      <th>LSTM</th>\n      <td>0.155776</td>\n      <td>0.145843</td>\n      <td>0.140279</td>\n      <td>0.134698</td>\n      <td>0.128796</td>\n      <td>0.184631</td>\n      <td>0.173658</td>\n      <td>0.167264</td>\n      <td>0.160566</td>\n      <td>0.153537</td>\n    </tr>\n    <tr>\n      <th>GRU</th>\n      <td>0.213263</td>\n      <td>0.208554</td>\n      <td>0.204334</td>\n      <td>0.202392</td>\n      <td>0.201139</td>\n      <td>0.252234</td>\n      <td>0.246527</td>\n      <td>0.242547</td>\n      <td>0.240425</td>\n      <td>0.238952</td>\n    </tr>\n    <tr>\n      <th>BIRNN</th>\n      <td>0.216283</td>\n      <td>0.210001</td>\n      <td>0.207442</td>\n      <td>0.206399</td>\n      <td>0.204946</td>\n      <td>0.256701</td>\n      <td>0.249223</td>\n      <td>0.246463</td>\n      <td>0.245248</td>\n      <td>0.243219</td>\n    </tr>\n    <tr>\n      <th>ARNN</th>\n      <td>0.121218</td>\n      <td>0.119081</td>\n      <td>0.117825</td>\n      <td>0.117403</td>\n      <td>0.117088</td>\n      <td>0.151709</td>\n      <td>0.150488</td>\n      <td>0.150074</td>\n      <td>0.148220</td>\n      <td>0.149311</td>\n    </tr>\n    <tr>\n      <th>BPR-NAS</th>\n      <td>0.127152</td>\n      <td>0.128591</td>\n      <td>0.124845</td>\n      <td>0.121621</td>\n      <td>0.119327</td>\n      <td>0.160523</td>\n      <td>0.161091</td>\n      <td>0.158129</td>\n      <td>0.156331</td>\n      <td>0.153737</td>\n    </tr>\n    <tr>\n      <th>CF</th>\n      <td>0.046896</td>\n      <td>0.035252</td>\n      <td>0.031753</td>\n      <td>0.029302</td>\n      <td>0.027833</td>\n      <td>0.062624</td>\n      <td>0.047190</td>\n      <td>0.042951</td>\n      <td>0.039981</td>\n      <td>0.038151</td>\n    </tr>\n  </tbody>\n</table>\n</div>"
     },
     "execution_count": 20,
     "metadata": {},
     "output_type": "execute_result"
    }
   ],
   "source": [
    "metrics = get_table('gpu')\n",
    "metrics"
   ],
   "metadata": {
    "collapsed": false,
    "ExecuteTime": {
     "end_time": "2024-03-09T07:30:21.219489Z",
     "start_time": "2024-03-09T07:30:21.195481Z"
    }
   },
   "id": "fc468663e77e544f",
   "execution_count": 20
  },
  {
   "cell_type": "code",
   "outputs": [],
   "source": [
    "models = [\n",
    "    'LinearRegression',\n",
    "    'Ridge',\n",
    "    'Lasso',\n",
    "    'KNeighborsRegressor',\n",
    "    'SVR',\n",
    "    'DecisionTreeRegressor',\n",
    "    'RandomForestRegressor',\n",
    "    'GradientBoostingRegressor',\n",
    "]"
   ],
   "metadata": {
    "collapsed": false,
    "ExecuteTime": {
     "end_time": "2024-03-09T07:30:21.234585Z",
     "start_time": "2024-03-09T07:30:21.220455Z"
    }
   },
   "id": "4a351405dc36f32f",
   "execution_count": 21
  },
  {
   "cell_type": "code",
   "outputs": [],
   "source": [
    "def get_machine_learning_table(dataset):\n",
    "    metrics = np.zeros((8, 10))\n",
    "    for i, model in enumerate(models):\n",
    "        # print(i, model)\n",
    "        for j, density in enumerate(densitys):\n",
    "            for dimension in dimensions:\n",
    "                \n",
    "                # 读取结果 NMAE\n",
    "                address = './results/metrics/' + 'Machine_learning' + '_' + dataset + '_' + density \n",
    "                NMAE = address + model +'_NMAEmean.pkl'\n",
    "                try:\n",
    "                    with open(NMAE, 'rb') as f:\n",
    "                        results = pickle.load(f)\n",
    "                    # print(results)\n",
    "                except:\n",
    "                    print(f'{address} 无法读取!')\n",
    "                    continue\n",
    "                \n",
    "                # 装载数据 NMAE\n",
    "                metrics[i, j] = results\n",
    "                \n",
    "                # 读取结果 NRMSE\n",
    "                address = './results/metrics/' + 'Machine_learning' + '_' + dataset + '_' + density \n",
    "                NRMSE = address + model +'_NRMSEmean.pkl'\n",
    "                try:\n",
    "                    with open(NRMSE, 'rb') as f:\n",
    "                        results = pickle.load(f)\n",
    "                    # print(results)\n",
    "                except:\n",
    "                    print(f'{address} 无法读取!')\n",
    "                    continue\n",
    "                    \n",
    "                # 装载数据 NRMSE\n",
    "                metrics[i, j + 5] = results\n",
    "                \n",
    "    df = pd.DataFrame(metrics)\n",
    "    cols = []\n",
    "    for acc in ['NMAE', 'NRMSE']:\n",
    "        for density in densitys:\n",
    "            cols.append(f'{acc}:{density}')\n",
    "    df.columns = cols\n",
    "    df.index = models\n",
    "    return df\n"
   ],
   "metadata": {
    "collapsed": false,
    "ExecuteTime": {
     "end_time": "2024-03-09T07:30:21.283162Z",
     "start_time": "2024-03-09T07:30:21.238448Z"
    }
   },
   "id": "37b3d464ce5c8db5",
   "execution_count": 22
  },
  {
   "cell_type": "code",
   "outputs": [
    {
     "data": {
      "text/plain": "                           NMAE:0.01  NMAE:0.02  NMAE:0.03  NMAE:0.04  \\\nLinearRegression            0.151770   0.150203   0.149204   0.149649   \nRidge                       0.151536   0.150129   0.149204   0.149633   \nLasso                       0.264597   0.263493   0.262789   0.259838   \nKNeighborsRegressor         0.147383   0.128051   0.118197   0.112076   \nSVR                         0.287003   0.282523   0.280988   0.280904   \nDecisionTreeRegressor       0.143176   0.104300   0.082606   0.071392   \nRandomForestRegressor       0.110105   0.078764   0.066892   0.055077   \nGradientBoostingRegressor   0.082434   0.062682   0.056331   0.048836   \n\n                           NMAE:0.05  NRMSE:0.01  NRMSE:0.02  NRMSE:0.03  \\\nLinearRegression            0.149699    0.185055    0.183980    0.182924   \nRidge                       0.149649    0.185467    0.184104    0.182925   \nLasso                       0.258593    0.329667    0.328460    0.327397   \nKNeighborsRegressor         0.108010    0.186200    0.161827    0.148900   \nSVR                         0.280338    0.353564    0.348030    0.346125   \nDecisionTreeRegressor       0.065519    0.188864    0.138811    0.112096   \nRandomForestRegressor       0.050519    0.142718    0.102424    0.086166   \nGradientBoostingRegressor   0.043594    0.106322    0.082770    0.070903   \n\n                           NRMSE:0.04  NRMSE:0.05  \nLinearRegression             0.182949    0.182723  \nRidge                        0.182963    0.182775  \nLasso                        0.324418    0.322717  \nKNeighborsRegressor          0.141396    0.136696  \nSVR                          0.346052    0.345393  \nDecisionTreeRegressor        0.094726    0.090693  \nRandomForestRegressor        0.071045    0.065721  \nGradientBoostingRegressor    0.063148    0.056331  ",
      "text/html": "<div>\n<style scoped>\n    .dataframe tbody tr th:only-of-type {\n        vertical-align: middle;\n    }\n\n    .dataframe tbody tr th {\n        vertical-align: top;\n    }\n\n    .dataframe thead th {\n        text-align: right;\n    }\n</style>\n<table border=\"1\" class=\"dataframe\">\n  <thead>\n    <tr style=\"text-align: right;\">\n      <th></th>\n      <th>NMAE:0.01</th>\n      <th>NMAE:0.02</th>\n      <th>NMAE:0.03</th>\n      <th>NMAE:0.04</th>\n      <th>NMAE:0.05</th>\n      <th>NRMSE:0.01</th>\n      <th>NRMSE:0.02</th>\n      <th>NRMSE:0.03</th>\n      <th>NRMSE:0.04</th>\n      <th>NRMSE:0.05</th>\n    </tr>\n  </thead>\n  <tbody>\n    <tr>\n      <th>LinearRegression</th>\n      <td>0.151770</td>\n      <td>0.150203</td>\n      <td>0.149204</td>\n      <td>0.149649</td>\n      <td>0.149699</td>\n      <td>0.185055</td>\n      <td>0.183980</td>\n      <td>0.182924</td>\n      <td>0.182949</td>\n      <td>0.182723</td>\n    </tr>\n    <tr>\n      <th>Ridge</th>\n      <td>0.151536</td>\n      <td>0.150129</td>\n      <td>0.149204</td>\n      <td>0.149633</td>\n      <td>0.149649</td>\n      <td>0.185467</td>\n      <td>0.184104</td>\n      <td>0.182925</td>\n      <td>0.182963</td>\n      <td>0.182775</td>\n    </tr>\n    <tr>\n      <th>Lasso</th>\n      <td>0.264597</td>\n      <td>0.263493</td>\n      <td>0.262789</td>\n      <td>0.259838</td>\n      <td>0.258593</td>\n      <td>0.329667</td>\n      <td>0.328460</td>\n      <td>0.327397</td>\n      <td>0.324418</td>\n      <td>0.322717</td>\n    </tr>\n    <tr>\n      <th>KNeighborsRegressor</th>\n      <td>0.147383</td>\n      <td>0.128051</td>\n      <td>0.118197</td>\n      <td>0.112076</td>\n      <td>0.108010</td>\n      <td>0.186200</td>\n      <td>0.161827</td>\n      <td>0.148900</td>\n      <td>0.141396</td>\n      <td>0.136696</td>\n    </tr>\n    <tr>\n      <th>SVR</th>\n      <td>0.287003</td>\n      <td>0.282523</td>\n      <td>0.280988</td>\n      <td>0.280904</td>\n      <td>0.280338</td>\n      <td>0.353564</td>\n      <td>0.348030</td>\n      <td>0.346125</td>\n      <td>0.346052</td>\n      <td>0.345393</td>\n    </tr>\n    <tr>\n      <th>DecisionTreeRegressor</th>\n      <td>0.143176</td>\n      <td>0.104300</td>\n      <td>0.082606</td>\n      <td>0.071392</td>\n      <td>0.065519</td>\n      <td>0.188864</td>\n      <td>0.138811</td>\n      <td>0.112096</td>\n      <td>0.094726</td>\n      <td>0.090693</td>\n    </tr>\n    <tr>\n      <th>RandomForestRegressor</th>\n      <td>0.110105</td>\n      <td>0.078764</td>\n      <td>0.066892</td>\n      <td>0.055077</td>\n      <td>0.050519</td>\n      <td>0.142718</td>\n      <td>0.102424</td>\n      <td>0.086166</td>\n      <td>0.071045</td>\n      <td>0.065721</td>\n    </tr>\n    <tr>\n      <th>GradientBoostingRegressor</th>\n      <td>0.082434</td>\n      <td>0.062682</td>\n      <td>0.056331</td>\n      <td>0.048836</td>\n      <td>0.043594</td>\n      <td>0.106322</td>\n      <td>0.082770</td>\n      <td>0.070903</td>\n      <td>0.063148</td>\n      <td>0.056331</td>\n    </tr>\n  </tbody>\n</table>\n</div>"
     },
     "execution_count": 23,
     "metadata": {},
     "output_type": "execute_result"
    }
   ],
   "source": [
    "get_machine_learning_table('cpu')"
   ],
   "metadata": {
    "collapsed": false,
    "ExecuteTime": {
     "end_time": "2024-03-09T07:30:21.314954Z",
     "start_time": "2024-03-09T07:30:21.284930Z"
    }
   },
   "id": "42d78a58ddacee26",
   "execution_count": 23
  },
  {
   "cell_type": "code",
   "outputs": [
    {
     "data": {
      "text/plain": "                           NMAE:0.01  NMAE:0.02  NMAE:0.03  NMAE:0.04  \\\nLinearRegression            0.194248   0.192732   0.192191   0.192079   \nRidge                       0.194282   0.192736   0.192152   0.192079   \nLasso                       0.284418   0.283399   0.281886   0.282431   \nKNeighborsRegressor         0.179704   0.164251   0.153496   0.144204   \nSVR                         0.279678   0.276941   0.276797   0.276708   \nDecisionTreeRegressor       0.182566   0.156169   0.137258   0.120909   \nRandomForestRegressor       0.135848   0.112663   0.098018   0.085766   \nGradientBoostingRegressor   0.099678   0.070335   0.057751   0.050897   \n\n                           NMAE:0.05  NRMSE:0.01  NRMSE:0.02  NRMSE:0.03  \\\nLinearRegression            0.192150    0.243355    0.241485    0.240692   \nRidge                       0.192127    0.243592    0.241529    0.240761   \nLasso                       0.282145    0.351401    0.350252    0.348537   \nKNeighborsRegressor         0.139106    0.222422    0.203075    0.189615   \nSVR                         0.276716    0.345016    0.341482    0.341209   \nDecisionTreeRegressor       0.106011    0.225989    0.199285    0.177665   \nRandomForestRegressor       0.078579    0.168638    0.140352    0.124335   \nGradientBoostingRegressor   0.048253    0.120564    0.086578    0.071238   \n\n                           NRMSE:0.04  NRMSE:0.05  \nLinearRegression             0.240607    0.240608  \nRidge                        0.240607    0.240685  \nLasso                        0.349149    0.348803  \nKNeighborsRegressor          0.179073    0.172847  \nSVR                          0.340774    0.340773  \nDecisionTreeRegressor        0.164649    0.147936  \nRandomForestRegressor        0.110395    0.102046  \nGradientBoostingRegressor    0.062990    0.059253  ",
      "text/html": "<div>\n<style scoped>\n    .dataframe tbody tr th:only-of-type {\n        vertical-align: middle;\n    }\n\n    .dataframe tbody tr th {\n        vertical-align: top;\n    }\n\n    .dataframe thead th {\n        text-align: right;\n    }\n</style>\n<table border=\"1\" class=\"dataframe\">\n  <thead>\n    <tr style=\"text-align: right;\">\n      <th></th>\n      <th>NMAE:0.01</th>\n      <th>NMAE:0.02</th>\n      <th>NMAE:0.03</th>\n      <th>NMAE:0.04</th>\n      <th>NMAE:0.05</th>\n      <th>NRMSE:0.01</th>\n      <th>NRMSE:0.02</th>\n      <th>NRMSE:0.03</th>\n      <th>NRMSE:0.04</th>\n      <th>NRMSE:0.05</th>\n    </tr>\n  </thead>\n  <tbody>\n    <tr>\n      <th>LinearRegression</th>\n      <td>0.194248</td>\n      <td>0.192732</td>\n      <td>0.192191</td>\n      <td>0.192079</td>\n      <td>0.192150</td>\n      <td>0.243355</td>\n      <td>0.241485</td>\n      <td>0.240692</td>\n      <td>0.240607</td>\n      <td>0.240608</td>\n    </tr>\n    <tr>\n      <th>Ridge</th>\n      <td>0.194282</td>\n      <td>0.192736</td>\n      <td>0.192152</td>\n      <td>0.192079</td>\n      <td>0.192127</td>\n      <td>0.243592</td>\n      <td>0.241529</td>\n      <td>0.240761</td>\n      <td>0.240607</td>\n      <td>0.240685</td>\n    </tr>\n    <tr>\n      <th>Lasso</th>\n      <td>0.284418</td>\n      <td>0.283399</td>\n      <td>0.281886</td>\n      <td>0.282431</td>\n      <td>0.282145</td>\n      <td>0.351401</td>\n      <td>0.350252</td>\n      <td>0.348537</td>\n      <td>0.349149</td>\n      <td>0.348803</td>\n    </tr>\n    <tr>\n      <th>KNeighborsRegressor</th>\n      <td>0.179704</td>\n      <td>0.164251</td>\n      <td>0.153496</td>\n      <td>0.144204</td>\n      <td>0.139106</td>\n      <td>0.222422</td>\n      <td>0.203075</td>\n      <td>0.189615</td>\n      <td>0.179073</td>\n      <td>0.172847</td>\n    </tr>\n    <tr>\n      <th>SVR</th>\n      <td>0.279678</td>\n      <td>0.276941</td>\n      <td>0.276797</td>\n      <td>0.276708</td>\n      <td>0.276716</td>\n      <td>0.345016</td>\n      <td>0.341482</td>\n      <td>0.341209</td>\n      <td>0.340774</td>\n      <td>0.340773</td>\n    </tr>\n    <tr>\n      <th>DecisionTreeRegressor</th>\n      <td>0.182566</td>\n      <td>0.156169</td>\n      <td>0.137258</td>\n      <td>0.120909</td>\n      <td>0.106011</td>\n      <td>0.225989</td>\n      <td>0.199285</td>\n      <td>0.177665</td>\n      <td>0.164649</td>\n      <td>0.147936</td>\n    </tr>\n    <tr>\n      <th>RandomForestRegressor</th>\n      <td>0.135848</td>\n      <td>0.112663</td>\n      <td>0.098018</td>\n      <td>0.085766</td>\n      <td>0.078579</td>\n      <td>0.168638</td>\n      <td>0.140352</td>\n      <td>0.124335</td>\n      <td>0.110395</td>\n      <td>0.102046</td>\n    </tr>\n    <tr>\n      <th>GradientBoostingRegressor</th>\n      <td>0.099678</td>\n      <td>0.070335</td>\n      <td>0.057751</td>\n      <td>0.050897</td>\n      <td>0.048253</td>\n      <td>0.120564</td>\n      <td>0.086578</td>\n      <td>0.071238</td>\n      <td>0.062990</td>\n      <td>0.059253</td>\n    </tr>\n  </tbody>\n</table>\n</div>"
     },
     "execution_count": 24,
     "metadata": {},
     "output_type": "execute_result"
    }
   ],
   "source": [
    "get_machine_learning_table('gpu')"
   ],
   "metadata": {
    "collapsed": false,
    "ExecuteTime": {
     "end_time": "2024-03-09T07:30:21.336323Z",
     "start_time": "2024-03-09T07:30:21.316483Z"
    }
   },
   "id": "70be0ac36af26e5a",
   "execution_count": 24
  },
  {
   "cell_type": "code",
   "outputs": [],
   "source": [
    "def draw_table(data):\n",
    "    idx = data == np.min(data, axis = 0)\n",
    "    for i, model in zip(range(data.shape[0]), models):\n",
    "        string = '& '\n",
    "        string += model + ' '\n",
    "        for j in range(data.shape[1]):\n",
    "            if idx[i][j]:\n",
    "                string += '& ' + '\\\\textbf{' + \"{:.4f}\".format(data[i, j]) + '}'\n",
    "                # string += '& ' + '\\\\ul{' + \"{:.4f}\".format(data[i, j]) + '}'\n",
    "            else:\n",
    "                string += '& ' + \"{:.4f}\".format(data[i, j]) + ' '\n",
    "        string += '\\\\\\\\'\n",
    "        print(string)"
   ],
   "metadata": {
    "collapsed": false,
    "ExecuteTime": {
     "end_time": "2024-03-09T08:27:02.143473Z",
     "start_time": "2024-03-09T08:27:02.132157Z"
    }
   },
   "id": "3aa3a56e2b3d00d",
   "execution_count": 28
  },
  {
   "cell_type": "code",
   "outputs": [
    {
     "name": "stdout",
     "output_type": "stream",
     "text": [
      "& LinearRegression & 0.1518 & 0.1502 & 0.1492 & 0.1496 & 0.1497 & 0.1851 & 0.1840 & 0.1829 & 0.1829 & 0.1827 \\\\\n",
      "& Ridge & 0.1515 & 0.1501 & 0.1492 & 0.1496 & 0.1496 & 0.1855 & 0.1841 & 0.1829 & 0.1830 & 0.1828 \\\\\n",
      "& Lasso & 0.2646 & 0.2635 & 0.2628 & 0.2598 & 0.2586 & 0.3297 & 0.3285 & 0.3274 & 0.3244 & 0.3227 \\\\\n",
      "& KNeighborsRegressor & 0.1474 & 0.1281 & 0.1182 & 0.1121 & 0.1080 & 0.1862 & 0.1618 & 0.1489 & 0.1414 & 0.1367 \\\\\n",
      "& SVR & 0.2870 & 0.2825 & 0.2810 & 0.2809 & 0.2803 & 0.3536 & 0.3480 & 0.3461 & 0.3461 & 0.3454 \\\\\n",
      "& DecisionTreeRegressor & 0.1432 & 0.1043 & 0.0826 & 0.0714 & 0.0655 & 0.1889 & 0.1388 & 0.1121 & 0.0947 & 0.0907 \\\\\n",
      "& RandomForestRegressor & 0.1101 & 0.0788 & 0.0669 & 0.0551 & 0.0505 & 0.1427 & 0.1024 & 0.0862 & 0.0710 & 0.0657 \\\\\n",
      "& GradientBoostingRegressor & \\textbf{0.0824}& \\textbf{0.0627}& \\textbf{0.0563}& \\textbf{0.0488}& \\textbf{0.0436}& \\textbf{0.1063}& \\textbf{0.0828}& \\textbf{0.0709}& \\textbf{0.0631}& \\textbf{0.0563}\\\\\n"
     ]
    }
   ],
   "source": [
    "data = get_machine_learning_table('cpu').to_numpy()\n",
    "draw_table(data)"
   ],
   "metadata": {
    "collapsed": false,
    "ExecuteTime": {
     "end_time": "2024-03-09T08:27:24.521920Z",
     "start_time": "2024-03-09T08:27:24.508492Z"
    }
   },
   "id": "929da15c1bbdebc4",
   "execution_count": 29
  },
  {
   "cell_type": "code",
   "outputs": [
    {
     "name": "stdout",
     "output_type": "stream",
     "text": [
      "& LinearRegression & 0.1942 & 0.1927 & 0.1922 & 0.1921 & 0.1921 & 0.2434 & 0.2415 & 0.2407 & 0.2406 & 0.2406 \\\\\n",
      "& Ridge & 0.1943 & 0.1927 & 0.1922 & 0.1921 & 0.1921 & 0.2436 & 0.2415 & 0.2408 & 0.2406 & 0.2407 \\\\\n",
      "& Lasso & 0.2844 & 0.2834 & 0.2819 & 0.2824 & 0.2821 & 0.3514 & 0.3503 & 0.3485 & 0.3491 & 0.3488 \\\\\n",
      "& KNeighborsRegressor & 0.1797 & 0.1643 & 0.1535 & 0.1442 & 0.1391 & 0.2224 & 0.2031 & 0.1896 & 0.1791 & 0.1728 \\\\\n",
      "& SVR & 0.2797 & 0.2769 & 0.2768 & 0.2767 & 0.2767 & 0.3450 & 0.3415 & 0.3412 & 0.3408 & 0.3408 \\\\\n",
      "& DecisionTreeRegressor & 0.1826 & 0.1562 & 0.1373 & 0.1209 & 0.1060 & 0.2260 & 0.1993 & 0.1777 & 0.1646 & 0.1479 \\\\\n",
      "& RandomForestRegressor & 0.1358 & 0.1127 & 0.0980 & 0.0858 & 0.0786 & 0.1686 & 0.1404 & 0.1243 & 0.1104 & 0.1020 \\\\\n",
      "& GradientBoostingRegressor & \\textbf{0.0997}& \\textbf{0.0703}& \\textbf{0.0578}& \\textbf{0.0509}& \\textbf{0.0483}& \\textbf{0.1206}& \\textbf{0.0866}& \\textbf{0.0712}& \\textbf{0.0630}& \\textbf{0.0593}\\\\\n"
     ]
    }
   ],
   "source": [
    "data = get_machine_learning_table('gpu').to_numpy()\n",
    "draw_table(data)"
   ],
   "metadata": {
    "collapsed": false,
    "ExecuteTime": {
     "end_time": "2024-03-09T08:27:39.802941Z",
     "start_time": "2024-03-09T08:27:39.794955Z"
    }
   },
   "id": "d23ed428418aee72",
   "execution_count": 31
  },
  {
   "cell_type": "code",
   "outputs": [
    {
     "data": {
      "text/plain": "['Machine_learning', 'MLP', 'LSTM', 'GRU', 'BIRNN', 'ARNN', 'BPR-NAS', 'CF']"
     },
     "execution_count": 34,
     "metadata": {},
     "output_type": "execute_result"
    }
   ],
   "source": [
    "models = [\n",
    "    'Machine_learning',\n",
    "    'MLP',\n",
    "    'LSTM',\n",
    "    'GRU',\n",
    "    'BIRNN',\n",
    "    'ARNN',\n",
    "    'BPR-NAS',\n",
    "    'CF'\n",
    "]\n",
    "models"
   ],
   "metadata": {
    "collapsed": false,
    "ExecuteTime": {
     "end_time": "2024-03-09T08:29:30.576534Z",
     "start_time": "2024-03-09T08:29:30.567923Z"
    }
   },
   "id": "5c8ddd19bb44e78b",
   "execution_count": 34
  },
  {
   "cell_type": "code",
   "outputs": [
    {
     "name": "stdout",
     "output_type": "stream",
     "text": [
      "& Machine_learning & 0.0824 & 0.0627 & 0.0563 & 0.0488 & 0.0436 & 0.1063 & 0.0828 & 0.0709 & 0.0631 & 0.0563 \\\\\n",
      "& MLP & 0.2174 & 0.1440 & 0.1368 & 0.1209 & 0.1167 & 0.3335 & 0.1898 & 0.1742 & 0.1475 & 0.1419 \\\\\n",
      "& LSTM & 0.1536 & 0.1247 & 0.1144 & 0.0772 & 0.0743 & 0.1871 & 0.1518 & 0.1388 & 0.0967 & 0.0930 \\\\\n",
      "& GRU & 0.2223 & 0.2103 & 0.2032 & 0.1953 & 0.1931 & 0.2642 & 0.2508 & 0.2426 & 0.2349 & 0.2330 \\\\\n",
      "& BIRNN & 0.2226 & 0.2117 & 0.2053 & 0.2017 & 0.1985 & 0.2665 & 0.2545 & 0.2472 & 0.2430 & 0.2396 \\\\\n",
      "& ARNN & 0.0923 & 0.0779 & 0.0705 & 0.0668 & 0.0534 & 0.1107 & 0.0958 & 0.0894 & 0.0860 & 0.0698 \\\\\n",
      "& BPR-NAS & 0.0669 & 0.0451 & 0.0373 & 0.0310 & 0.0281 & 0.0896 & 0.0652 & 0.0534 & 0.0450 & 0.0409 \\\\\n",
      "& CF & \\textbf{0.0542}& \\textbf{0.0372}& \\textbf{0.0340}& \\textbf{0.0298}& \\textbf{0.0273}& \\textbf{0.0711}& \\textbf{0.0511}& \\textbf{0.0468}& \\textbf{0.0423}& \\textbf{0.0397}\\\\\n"
     ]
    }
   ],
   "source": [
    "data = get_table('cpu').to_numpy()\n",
    "draw_table(data)"
   ],
   "metadata": {
    "collapsed": false,
    "ExecuteTime": {
     "end_time": "2024-03-09T08:29:30.945945Z",
     "start_time": "2024-03-09T08:29:30.930242Z"
    }
   },
   "id": "61b1fe81b61a8626",
   "execution_count": 35
  },
  {
   "cell_type": "code",
   "outputs": [
    {
     "name": "stdout",
     "output_type": "stream",
     "text": [
      "& Machine_learning & 0.0997 & 0.0703 & 0.0578 & 0.0509 & 0.0483 & 0.1206 & 0.0866 & 0.0712 & 0.0630 & 0.0593 \\\\\n",
      "& MLP & 0.1847 & 0.1584 & 0.1484 & 0.1427 & 0.1306 & 0.2456 & 0.1921 & 0.1805 & 0.1733 & 0.1585 \\\\\n",
      "& LSTM & 0.1558 & 0.1458 & 0.1403 & 0.1347 & 0.1288 & 0.1846 & 0.1737 & 0.1673 & 0.1606 & 0.1535 \\\\\n",
      "& GRU & 0.2133 & 0.2086 & 0.2043 & 0.2024 & 0.2011 & 0.2522 & 0.2465 & 0.2425 & 0.2404 & 0.2390 \\\\\n",
      "& BIRNN & 0.2163 & 0.2100 & 0.2074 & 0.2064 & 0.2049 & 0.2567 & 0.2492 & 0.2465 & 0.2452 & 0.2432 \\\\\n",
      "& ARNN & 0.1212 & 0.1191 & 0.1178 & 0.1174 & 0.1171 & 0.1517 & 0.1505 & 0.1501 & 0.1482 & 0.1493 \\\\\n",
      "& BPR-NAS & 0.1272 & 0.1286 & 0.1248 & 0.1216 & 0.1193 & 0.1605 & 0.1611 & 0.1581 & 0.1563 & 0.1537 \\\\\n",
      "& CF & \\textbf{0.0469}& \\textbf{0.0353}& \\textbf{0.0318}& \\textbf{0.0293}& \\textbf{0.0278}& \\textbf{0.0626}& \\textbf{0.0472}& \\textbf{0.0430}& \\textbf{0.0400}& \\textbf{0.0382}\\\\\n"
     ]
    }
   ],
   "source": [
    "data = get_table('gpu').to_numpy()\n",
    "draw_table(data)"
   ],
   "metadata": {
    "collapsed": false,
    "ExecuteTime": {
     "end_time": "2024-03-09T08:29:31.350285Z",
     "start_time": "2024-03-09T08:29:31.336138Z"
    }
   },
   "id": "bdcc62c606859ace",
   "execution_count": 36
  },
  {
   "cell_type": "code",
   "outputs": [],
   "source": [],
   "metadata": {
    "collapsed": false
   },
   "id": "78e864eb70323f6b"
  }
 ],
 "metadata": {
  "kernelspec": {
   "display_name": "Python 3",
   "language": "python",
   "name": "python3"
  },
  "language_info": {
   "codemirror_mode": {
    "name": "ipython",
    "version": 2
   },
   "file_extension": ".py",
   "mimetype": "text/x-python",
   "name": "python",
   "nbconvert_exporter": "python",
   "pygments_lexer": "ipython2",
   "version": "2.7.6"
  }
 },
 "nbformat": 4,
 "nbformat_minor": 5
}
