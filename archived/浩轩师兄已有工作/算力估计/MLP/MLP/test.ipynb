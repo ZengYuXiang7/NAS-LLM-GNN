{
 "cells": [
  {
   "cell_type": "code",
   "execution_count": 46,
   "outputs": [],
   "source": [
    "import pickle\n",
    "import os\n",
    "filePath = './dataset/'\n",
    "arr = os.listdir(filePath)\n",
    "tmp = []\n",
    "model = dict()\n",
    "res = []\n",
    "for file in arr:\n",
    "    data = pickle.load(open('./dataset/'+file, 'rb'))\n",
    "    data = list(data.items())[:100]\n",
    "    tmp.append(data)\n",
    "for i, v in enumerate(tmp):\n",
    "    for j in v:\n",
    "        tnode_index = i\n",
    "        node_atr = j[0]\n",
    "        egde_atr = j[1]\n",
    "        if j[0] not in model:\n",
    "            model[j[0]] = len(model)\n",
    "        snode_index = model[j[0]]\n",
    "        res.append([snode_index, node_atr, tnode_index, egde_atr])\n"
   ],
   "metadata": {
    "collapsed": false,
    "pycharm": {
     "name": "#%%\n"
    }
   }
  }
 ],
 "metadata": {
  "kernelspec": {
   "display_name": "Python 3",
   "language": "python",
   "name": "python3"
  },
  "language_info": {
   "codemirror_mode": {
    "name": "ipython",
    "version": 2
   },
   "file_extension": ".py",
   "mimetype": "text/x-python",
   "name": "python",
   "nbconvert_exporter": "python",
   "pygments_lexer": "ipython2",
   "version": "2.7.6"
  }
 },
 "nbformat": 4,
 "nbformat_minor": 0
}