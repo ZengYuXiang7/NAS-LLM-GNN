{
 "cells": [
  {
   "cell_type": "code",
   "execution_count": 1,
   "outputs": [
    {
     "data": {
      "text/plain": "Namespace(ablation=0, bs=128, dataset=1, debug=0, decay=0.001, density=0.5, device='gpu', dimension=10, epochs=100, experiment=0, loss_func='L1Loss', lr=0.001, lr_step=50, model='NeuTF', optim='AdamW', path='./datasets/', patience=10, record=0, rounds=5, saved=1, seed=0, test=0, verbose=10, windows=5)"
     },
     "execution_count": 1,
     "metadata": {},
     "output_type": "execute_result"
    }
   ],
   "source": [
    "from utils.utils import set_settings\n",
    "from Experiment import RunExperiments\n",
    "from utils.logger import Logger\n",
    "import argparse\n",
    "import numpy as np\n",
    "\n",
    "parser = argparse.ArgumentParser()\n",
    "parser.add_argument('--seed', type=int, default=0)\n",
    "parser.add_argument('--rounds', type=int, default=5)\n",
    "\n",
    "parser.add_argument('--dataset', type=int, default=1)  #\n",
    "parser.add_argument('--model', type=str, default='NeuTF')\n",
    "\n",
    "# Experiment\n",
    "parser.add_argument('--density', type=float, default=0.50)\n",
    "parser.add_argument('--debug', type=int, default=0)\n",
    "parser.add_argument('--record', type=int, default=0)\n",
    "parser.add_argument('--test', type=int, default=0)\n",
    "parser.add_argument('--experiment', type=int, default=0)\n",
    "parser.add_argument('--verbose', type=int, default=10)\n",
    "parser.add_argument('--path', nargs='?', default='./datasets/')\n",
    "\n",
    "# Training tool\n",
    "parser.add_argument('--device', type=str, default='gpu')  # cpu\n",
    "parser.add_argument('--bs', type=int, default=128)\n",
    "parser.add_argument('--lr', type=float, default=1e-3)\n",
    "parser.add_argument('--epochs', type=int, default=100)\n",
    "parser.add_argument('--decay', type=float, default=1e-3)\n",
    "parser.add_argument('--lr_step', type=int, default=50)\n",
    "parser.add_argument('--patience', type=int, default=10)\n",
    "parser.add_argument('--saved', type=int, default=1)\n",
    "\n",
    "parser.add_argument('--loss_func', type=str, default='L1Loss')\n",
    "parser.add_argument('--optim', type=str, default='AdamW')\n",
    "\n",
    "# Hyper parameters\n",
    "parser.add_argument('--dimension', type=int, default=10)\n",
    "parser.add_argument('--windows', type=int, default=5)\n",
    "\n",
    "# Other Experiment\n",
    "parser.add_argument('--ablation', type=int, default=0)\n",
    "args = parser.parse_args([])\n",
    "set_settings(args)\n"
   ],
   "metadata": {
    "collapsed": false
   }
  },
  {
   "cell_type": "code",
   "execution_count": 2,
   "outputs": [
    {
     "name": "stdout",
     "output_type": "stream",
     "text": [
      "\u001B[92m2023-10-18 12:32:04 Dataset:  0, Density: 0.100   Results: NRMSE=0.0695 NMAE=0.0562 Training_time=5772.8 s\u001B[0m\n",
      "\u001B[92m2023-10-18 12:34:48 Dataset:  0, Density: 0.200   Results: NRMSE=0.0453 NMAE=0.0358 Training_time=17.9 s\u001B[0m\n",
      "\u001B[92m2023-10-18 12:38:56 Dataset:  0, Density: 0.300   Results: NRMSE=0.0383 NMAE=0.0299 Training_time=33.5 s\u001B[0m\n",
      "\u001B[92m2023-10-18 12:42:53 Dataset:  0, Density: 0.400   Results: NRMSE=0.0361 NMAE=0.0278 Training_time=34.1 s\u001B[0m\n",
      "\u001B[92m2023-10-18 12:47:06 Dataset:  0, Density: 0.500   Results: NRMSE=0.0335 NMAE=0.0257 Training_time=38.1 s\u001B[0m\n",
      "\u001B[92m2023-10-18 12:48:58 Dataset:  1, Density: 0.100   Results: NRMSE=0.0562 NMAE=0.0462 Training_time=8.7 s\u001B[0m\n",
      "\u001B[92m2023-10-18 12:51:39 Dataset:  1, Density: 0.200   Results: NRMSE=0.0370 NMAE=0.0302 Training_time=18.1 s\u001B[0m\n",
      "\u001B[92m2023-10-18 12:54:58 Dataset:  1, Density: 0.300   Results: NRMSE=0.0312 NMAE=0.0254 Training_time=26.2 s\u001B[0m\n",
      "\u001B[92m2023-10-18 12:58:29 Dataset:  1, Density: 0.400   Results: NRMSE=0.0292 NMAE=0.0236 Training_time=29.7 s\u001B[0m\n",
      "\u001B[92m2023-10-18 13:02:21 Dataset:  1, Density: 0.500   Results: NRMSE=0.0286 NMAE=0.0229 Training_time=34.3 s\u001B[0m\n",
      "\u001B[92m2023-10-18 13:04:27 Dataset:  2, Density: 0.100   Results: NRMSE=0.0690 NMAE=0.0558 Training_time=10.3 s\u001B[0m\n",
      "\u001B[92m2023-10-18 13:06:58 Dataset:  2, Density: 0.200   Results: NRMSE=0.0455 NMAE=0.0361 Training_time=16.5 s\u001B[0m\n",
      "\u001B[92m2023-10-18 13:09:57 Dataset:  2, Density: 0.300   Results: NRMSE=0.0381 NMAE=0.0299 Training_time=23.1 s\u001B[0m\n",
      "\u001B[92m2023-10-18 13:13:34 Dataset:  2, Density: 0.400   Results: NRMSE=0.0352 NMAE=0.0273 Training_time=31.5 s\u001B[0m\n",
      "\u001B[92m2023-10-18 13:17:31 Dataset:  2, Density: 0.500   Results: NRMSE=0.0335 NMAE=0.0256 Training_time=35.2 s\u001B[0m\n",
      "\u001B[92m2023-10-18 13:19:36 Dataset:  3, Density: 0.100   Results: NRMSE=0.0664 NMAE=0.0548 Training_time=10.0 s\u001B[0m\n",
      "\u001B[92m2023-10-18 13:22:01 Dataset:  3, Density: 0.200   Results: NRMSE=0.0482 NMAE=0.0388 Training_time=15.6 s\u001B[0m\n",
      "\u001B[92m2023-10-18 13:24:34 Dataset:  3, Density: 0.300   Results: NRMSE=0.0422 NMAE=0.0335 Training_time=18.7 s\u001B[0m\n",
      "\u001B[92m2023-10-18 13:27:46 Dataset:  3, Density: 0.400   Results: NRMSE=0.0407 NMAE=0.0318 Training_time=26.2 s\u001B[0m\n",
      "\u001B[92m2023-10-18 13:31:04 Dataset:  3, Density: 0.500   Results: NRMSE=0.0382 NMAE=0.0296 Training_time=29.5 s\u001B[0m\n",
      "\u001B[92m2023-10-18 13:32:55 Dataset:  4, Density: 0.100   Results: NRMSE=0.4748 NMAE=0.4218 Training_time=8.5 s\u001B[0m\n",
      "\u001B[92m2023-10-18 13:35:41 Dataset:  4, Density: 0.200   Results: NRMSE=0.3686 NMAE=0.2952 Training_time=19.4 s\u001B[0m\n",
      "\u001B[92m2023-10-18 13:39:07 Dataset:  4, Density: 0.300   Results: NRMSE=0.3223 NMAE=0.2427 Training_time=28.9 s\u001B[0m\n",
      "\u001B[92m2023-10-18 13:43:17 Dataset:  4, Density: 0.400   Results: NRMSE=0.2825 NMAE=0.2007 Training_time=38.9 s\u001B[0m\n",
      "\u001B[92m2023-10-18 13:47:45 Dataset:  4, Density: 0.500   Results: NRMSE=0.2772 NMAE=0.1899 Training_time=43.2 s\u001B[0m\n",
      "\u001B[92m2023-10-18 13:49:07 Dataset:  5, Density: 0.100   Results: NRMSE=0.0784 NMAE=0.0604 Training_time=5.7 s\u001B[0m\n",
      "\u001B[92m2023-10-18 13:50:51 Dataset:  5, Density: 0.200   Results: NRMSE=0.0685 NMAE=0.0506 Training_time=10.3 s\u001B[0m\n",
      "\u001B[92m2023-10-18 13:52:31 Dataset:  5, Density: 0.300   Results: NRMSE=0.0663 NMAE=0.0476 Training_time=11.1 s\u001B[0m\n",
      "\u001B[92m2023-10-18 13:55:02 Dataset:  5, Density: 0.400   Results: NRMSE=0.0641 NMAE=0.0454 Training_time=19.7 s\u001B[0m\n",
      "\u001B[92m2023-10-18 13:57:41 Dataset:  5, Density: 0.500   Results: NRMSE=0.0633 NMAE=0.0444 Training_time=21.9 s\u001B[0m\n",
      "\u001B[92m2023-10-18 13:59:48 Dataset:  6, Density: 0.100   Results: NRMSE=0.1526 NMAE=0.0700 Training_time=10.4 s\u001B[0m\n",
      "\u001B[92m2023-10-18 14:02:37 Dataset:  6, Density: 0.200   Results: NRMSE=0.1395 NMAE=0.0481 Training_time=20.2 s\u001B[0m\n",
      "\u001B[92m2023-10-18 14:05:57 Dataset:  6, Density: 0.300   Results: NRMSE=0.1330 NMAE=0.0424 Training_time=26.6 s\u001B[0m\n",
      "\u001B[92m2023-10-18 14:10:02 Dataset:  6, Density: 0.400   Results: NRMSE=0.1344 NMAE=0.0381 Training_time=36.1 s\u001B[0m\n",
      "\u001B[92m2023-10-18 14:13:53 Dataset:  6, Density: 0.500   Results: NRMSE=0.1280 NMAE=0.0379 Training_time=35.2 s\u001B[0m\n",
      "\u001B[92m2023-10-18 14:15:39 Dataset:  7, Density: 0.100   Results: NRMSE=0.1671 NMAE=0.1111 Training_time=7.9 s\u001B[0m\n",
      "\u001B[92m2023-10-18 14:17:42 Dataset:  7, Density: 0.200   Results: NRMSE=0.1546 NMAE=0.0915 Training_time=12.8 s\u001B[0m\n",
      "\u001B[92m2023-10-18 14:20:01 Dataset:  7, Density: 0.300   Results: NRMSE=0.1497 NMAE=0.0840 Training_time=16.6 s\u001B[0m\n",
      "\u001B[92m2023-10-18 14:22:49 Dataset:  7, Density: 0.400   Results: NRMSE=0.1477 NMAE=0.0798 Training_time=22.5 s\u001B[0m\n",
      "\u001B[92m2023-10-18 14:25:56 Dataset:  7, Density: 0.500   Results: NRMSE=0.1462 NMAE=0.0775 Training_time=26.6 s\u001B[0m\n",
      "\u001B[92m2023-10-18 14:27:52 Dataset:  8, Density: 0.100   Results: NRMSE=0.0865 NMAE=0.0555 Training_time=8.9 s\u001B[0m\n",
      "\u001B[92m2023-10-18 14:30:25 Dataset:  8, Density: 0.200   Results: NRMSE=0.0794 NMAE=0.0444 Training_time=16.7 s\u001B[0m\n",
      "\u001B[92m2023-10-18 14:32:56 Dataset:  8, Density: 0.300   Results: NRMSE=0.0778 NMAE=0.0407 Training_time=18.5 s\u001B[0m\n",
      "\u001B[92m2023-10-18 14:35:42 Dataset:  8, Density: 0.400   Results: NRMSE=0.0747 NMAE=0.0403 Training_time=22.1 s\u001B[0m\n",
      "\u001B[92m2023-10-18 14:39:15 Dataset:  8, Density: 0.500   Results: NRMSE=0.0725 NMAE=0.0378 Training_time=31.1 s\u001B[0m\n",
      "\u001B[92m2023-10-18 14:40:40 Dataset:  9, Density: 0.100   Results: NRMSE=0.1268 NMAE=0.0799 Training_time=6.0 s\u001B[0m\n",
      "\u001B[92m2023-10-18 14:42:35 Dataset:  9, Density: 0.200   Results: NRMSE=0.1161 NMAE=0.0648 Training_time=11.7 s\u001B[0m\n",
      "\u001B[92m2023-10-18 14:44:52 Dataset:  9, Density: 0.300   Results: NRMSE=0.1116 NMAE=0.0580 Training_time=16.4 s\u001B[0m\n",
      "\u001B[92m2023-10-18 14:47:34 Dataset:  9, Density: 0.400   Results: NRMSE=0.1095 NMAE=0.0562 Training_time=21.5 s\u001B[0m\n",
      "\u001B[92m2023-10-18 14:50:59 Dataset:  9, Density: 0.500   Results: NRMSE=0.1093 NMAE=0.0542 Training_time=29.7 s\u001B[0m\n",
      "\u001B[92m2023-10-18 14:52:22 Dataset: 10, Density: 0.100   Results: NRMSE=0.0751 NMAE=0.0505 Training_time=5.8 s\u001B[0m\n",
      "\u001B[92m2023-10-18 14:54:01 Dataset: 10, Density: 0.200   Results: NRMSE=0.0691 NMAE=0.0426 Training_time=9.7 s\u001B[0m\n",
      "\u001B[92m2023-10-18 14:56:25 Dataset: 10, Density: 0.300   Results: NRMSE=0.0661 NMAE=0.0395 Training_time=17.3 s\u001B[0m\n",
      "\u001B[92m2023-10-18 14:59:05 Dataset: 10, Density: 0.400   Results: NRMSE=0.0639 NMAE=0.0375 Training_time=21.2 s\u001B[0m\n",
      "\u001B[92m2023-10-18 15:01:54 Dataset: 10, Density: 0.500   Results: NRMSE=0.0654 NMAE=0.0381 Training_time=23.6 s\u001B[0m\n"
     ]
    }
   ],
   "source": [
    "# Setup Logger\n",
    "log = Logger(args)\n",
    "# Run Experiments\n",
    "for dataset in [0, 1, 2, 3, 4, 5, 6, 7, 8, 9, 10]:\n",
    "    for density in [0.1, 0.2, 0.3, 0.4, 0.5]:\n",
    "        args.dataset = dataset\n",
    "        args.density = density\n",
    "        args.verbose = 0\n",
    "        set_settings(args)\n",
    "        metrics = RunExperiments(log, args)\n",
    "        NRMSE, NMAE, TIME = np.mean(metrics['NRMSE']), np.mean(metrics['NMAE']), np.mean(metrics['TIME'])\n",
    "        log.print(f'Dataset: {dataset:2d}, Density: {density:.3f}   Results: NRMSE={NRMSE:.4f} NMAE={NMAE:.4f} Training_time={TIME:.1f} s')\n"
   ],
   "metadata": {
    "collapsed": false
   }
  },
  {
   "cell_type": "code",
   "execution_count": 2,
   "outputs": [
    {
     "name": "stdout",
     "output_type": "stream",
     "text": [
      "\u001B[92m|2023-10-19 16:09:42| Dataset:  0, Density: 0.100   Results: NRMSE=0.0626 NMAE=0.0508 Training_time=8.0 s\u001B[0m\n",
      "\u001B[92m|2023-10-19 16:12:00| Dataset:  0, Density: 0.200   Results: NRMSE=0.0422 NMAE=0.0335 Training_time=14.2 s\u001B[0m\n",
      "\u001B[92m|2023-10-19 16:15:11| Dataset:  0, Density: 0.300   Results: NRMSE=0.0354 NMAE=0.0276 Training_time=24.0 s\u001B[0m\n",
      "\u001B[92m|2023-10-19 16:18:49| Dataset:  0, Density: 0.400   Results: NRMSE=0.0331 NMAE=0.0254 Training_time=30.1 s\u001B[0m\n",
      "\u001B[92m|2023-10-19 16:23:24| Dataset:  0, Density: 0.500   Results: NRMSE=0.0305 NMAE=0.0230 Training_time=41.2 s\u001B[0m\n",
      "\u001B[92m|2023-10-19 16:25:07| Dataset:  1, Density: 0.100   Results: NRMSE=0.0499 NMAE=0.0411 Training_time=7.3 s\u001B[0m\n",
      "\u001B[92m|2023-10-19 16:27:24| Dataset:  1, Density: 0.200   Results: NRMSE=0.0349 NMAE=0.0287 Training_time=14.2 s\u001B[0m\n",
      "\u001B[92m|2023-10-19 16:29:56| Dataset:  1, Density: 0.300   Results: NRMSE=0.0312 NMAE=0.0253 Training_time=18.3 s\u001B[0m\n",
      "\u001B[92m|2023-10-19 16:32:56| Dataset:  1, Density: 0.400   Results: NRMSE=0.0285 NMAE=0.0231 Training_time=23.8 s\u001B[0m\n",
      "\u001B[92m|2023-10-19 16:36:54| Dataset:  1, Density: 0.500   Results: NRMSE=0.0263 NMAE=0.0210 Training_time=34.9 s\u001B[0m\n",
      "\u001B[92m|2023-10-19 16:38:45| Dataset:  2, Density: 0.100   Results: NRMSE=0.0633 NMAE=0.0509 Training_time=8.5 s\u001B[0m\n",
      "\u001B[92m|2023-10-19 16:41:33| Dataset:  2, Density: 0.200   Results: NRMSE=0.0412 NMAE=0.0327 Training_time=18.7 s\u001B[0m\n",
      "\u001B[92m|2023-10-19 16:44:44| Dataset:  2, Density: 0.300   Results: NRMSE=0.0353 NMAE=0.0277 Training_time=23.7 s\u001B[0m\n",
      "\u001B[92m|2023-10-19 16:48:27| Dataset:  2, Density: 0.400   Results: NRMSE=0.0320 NMAE=0.0245 Training_time=30.9 s\u001B[0m\n",
      "\u001B[92m|2023-10-19 16:53:13| Dataset:  2, Density: 0.500   Results: NRMSE=0.0300 NMAE=0.0231 Training_time=42.9 s\u001B[0m\n",
      "\u001B[92m|2023-10-19 16:54:50| Dataset:  3, Density: 0.100   Results: NRMSE=0.0626 NMAE=0.0513 Training_time=6.8 s\u001B[0m\n",
      "\u001B[92m|2023-10-19 16:57:00| Dataset:  3, Density: 0.200   Results: NRMSE=0.0471 NMAE=0.0379 Training_time=13.1 s\u001B[0m\n",
      "\u001B[92m|2023-10-19 16:59:18| Dataset:  3, Density: 0.300   Results: NRMSE=0.0420 NMAE=0.0332 Training_time=16.2 s\u001B[0m\n",
      "\u001B[92m|2023-10-19 17:02:12| Dataset:  3, Density: 0.400   Results: NRMSE=0.0397 NMAE=0.0313 Training_time=23.0 s\u001B[0m\n",
      "\u001B[92m|2023-10-19 17:05:31| Dataset:  3, Density: 0.500   Results: NRMSE=0.0373 NMAE=0.0289 Training_time=28.1 s\u001B[0m\n",
      "\u001B[92m|2023-10-19 17:07:07| Dataset:  4, Density: 0.100   Results: NRMSE=0.4587 NMAE=0.4076 Training_time=6.7 s\u001B[0m\n",
      "\u001B[92m|2023-10-19 17:10:05| Dataset:  4, Density: 0.200   Results: NRMSE=0.3481 NMAE=0.2757 Training_time=20.6 s\u001B[0m\n",
      "\u001B[92m|2023-10-19 17:13:50| Dataset:  4, Density: 0.300   Results: NRMSE=0.2845 NMAE=0.2040 Training_time=31.8 s\u001B[0m\n",
      "\u001B[92m|2023-10-19 17:18:24| Dataset:  4, Density: 0.400   Results: NRMSE=0.2596 NMAE=0.1741 Training_time=42.5 s\u001B[0m\n",
      "\u001B[92m|2023-10-19 17:23:38| Dataset:  4, Density: 0.500   Results: NRMSE=0.2438 NMAE=0.1601 Training_time=51.7 s\u001B[0m\n",
      "\u001B[92m|2023-10-19 17:24:41| Dataset:  5, Density: 0.100   Results: NRMSE=0.0781 NMAE=0.0600 Training_time=3.9 s\u001B[0m\n",
      "\u001B[92m|2023-10-19 17:25:58| Dataset:  5, Density: 0.200   Results: NRMSE=0.0696 NMAE=0.0514 Training_time=6.7 s\u001B[0m\n",
      "\u001B[92m|2023-10-19 17:27:45| Dataset:  5, Density: 0.300   Results: NRMSE=0.0661 NMAE=0.0484 Training_time=11.6 s\u001B[0m\n",
      "\u001B[92m|2023-10-19 17:29:32| Dataset:  5, Density: 0.400   Results: NRMSE=0.0642 NMAE=0.0462 Training_time=12.1 s\u001B[0m\n",
      "\u001B[92m|2023-10-19 17:31:51| Dataset:  5, Density: 0.500   Results: NRMSE=0.0631 NMAE=0.0451 Training_time=17.9 s\u001B[0m\n",
      "\u001B[92m|2023-10-19 17:34:10| Dataset:  6, Density: 0.100   Results: NRMSE=0.1485 NMAE=0.0617 Training_time=11.1 s\u001B[0m\n",
      "\u001B[92m|2023-10-19 17:37:08| Dataset:  6, Density: 0.200   Results: NRMSE=0.1381 NMAE=0.0456 Training_time=20.2 s\u001B[0m\n",
      "\u001B[92m|2023-10-19 17:40:32| Dataset:  6, Density: 0.300   Results: NRMSE=0.1323 NMAE=0.0397 Training_time=26.5 s\u001B[0m\n",
      "\u001B[92m|2023-10-19 17:44:00| Dataset:  6, Density: 0.400   Results: NRMSE=0.1345 NMAE=0.0386 Training_time=28.3 s\u001B[0m\n",
      "\u001B[92m|2023-10-19 17:47:34| Dataset:  6, Density: 0.500   Results: NRMSE=0.1279 NMAE=0.0385 Training_time=30.8 s\u001B[0m\n",
      "\u001B[92m|2023-10-19 17:48:50| Dataset:  7, Density: 0.100   Results: NRMSE=0.1653 NMAE=0.1080 Training_time=5.0 s\u001B[0m\n",
      "\u001B[92m|2023-10-19 17:50:50| Dataset:  7, Density: 0.200   Results: NRMSE=0.1555 NMAE=0.0923 Training_time=12.1 s\u001B[0m\n",
      "\u001B[92m|2023-10-19 17:53:09| Dataset:  7, Density: 0.300   Results: NRMSE=0.1507 NMAE=0.0841 Training_time=16.4 s\u001B[0m\n",
      "\u001B[92m|2023-10-19 17:56:13| Dataset:  7, Density: 0.400   Results: NRMSE=0.1485 NMAE=0.0815 Training_time=24.5 s\u001B[0m\n",
      "\u001B[92m|2023-10-19 17:59:04| Dataset:  7, Density: 0.500   Results: NRMSE=0.1452 NMAE=0.0788 Training_time=23.5 s\u001B[0m\n",
      "\u001B[92m|2023-10-19 18:00:30| Dataset:  8, Density: 0.100   Results: NRMSE=0.0847 NMAE=0.0537 Training_time=5.9 s\u001B[0m\n",
      "\u001B[92m|2023-10-19 18:02:32| Dataset:  8, Density: 0.200   Results: NRMSE=0.0796 NMAE=0.0443 Training_time=12.2 s\u001B[0m\n",
      "\u001B[92m|2023-10-19 18:04:26| Dataset:  8, Density: 0.300   Results: NRMSE=0.0785 NMAE=0.0416 Training_time=12.7 s\u001B[0m\n",
      "\u001B[92m|2023-10-19 18:06:39| Dataset:  8, Density: 0.400   Results: NRMSE=0.0755 NMAE=0.0403 Training_time=16.4 s\u001B[0m\n",
      "\u001B[92m|2023-10-19 18:09:07| Dataset:  8, Density: 0.500   Results: NRMSE=0.0731 NMAE=0.0401 Training_time=19.4 s\u001B[0m\n",
      "\u001B[92m|2023-10-19 18:10:12| Dataset:  9, Density: 0.100   Results: NRMSE=0.1247 NMAE=0.0775 Training_time=4.0 s\u001B[0m\n",
      "\u001B[92m|2023-10-19 18:12:01| Dataset:  9, Density: 0.200   Results: NRMSE=0.1149 NMAE=0.0636 Training_time=10.9 s\u001B[0m\n",
      "\u001B[92m|2023-10-19 18:13:59| Dataset:  9, Density: 0.300   Results: NRMSE=0.1119 NMAE=0.0592 Training_time=13.2 s\u001B[0m\n",
      "\u001B[92m|2023-10-19 18:16:27| Dataset:  9, Density: 0.400   Results: NRMSE=0.1093 NMAE=0.0561 Training_time=18.8 s\u001B[0m\n",
      "\u001B[92m|2023-10-19 18:19:03| Dataset:  9, Density: 0.500   Results: NRMSE=0.1089 NMAE=0.0556 Training_time=20.8 s\u001B[0m\n",
      "\u001B[92m|2023-10-19 18:20:04| Dataset: 10, Density: 0.100   Results: NRMSE=0.0740 NMAE=0.0499 Training_time=3.7 s\u001B[0m\n",
      "\u001B[92m|2023-10-19 18:21:38| Dataset: 10, Density: 0.200   Results: NRMSE=0.0694 NMAE=0.0429 Training_time=8.9 s\u001B[0m\n",
      "\u001B[92m|2023-10-19 18:23:12| Dataset: 10, Density: 0.300   Results: NRMSE=0.0666 NMAE=0.0402 Training_time=9.9 s\u001B[0m\n",
      "\u001B[92m|2023-10-19 18:25:00| Dataset: 10, Density: 0.400   Results: NRMSE=0.0642 NMAE=0.0383 Training_time=12.5 s\u001B[0m\n",
      "\u001B[92m|2023-10-19 18:27:15| Dataset: 10, Density: 0.500   Results: NRMSE=0.0646 NMAE=0.0376 Training_time=17.0 s\u001B[0m\n"
     ]
    }
   ],
   "source": [
    "# Setup Logger\n",
    "log = Logger(args)\n",
    "# Run Experiments\n",
    "for dataset in [0, 1, 2, 3, 4, 5, 6, 7, 8, 9, 10]:\n",
    "    for density in [0.1, 0.2, 0.3, 0.4, 0.5]:\n",
    "        args.dimension = 15\n",
    "        args.dataset = dataset\n",
    "        args.density = density\n",
    "        args.verbose = 0\n",
    "        set_settings(args)\n",
    "        metrics = RunExperiments(log, args)\n",
    "        NRMSE, NMAE, TIME = np.mean(metrics['NRMSE']), np.mean(metrics['NMAE']), np.mean(metrics['TIME'])\n",
    "        log.print(f'Dataset: {dataset:2d}, Density: {density:.3f}   Results: NRMSE={NRMSE:.4f} NMAE={NMAE:.4f} Training_time={TIME:.1f} s')\n"
   ],
   "metadata": {
    "collapsed": false
   }
  },
  {
   "cell_type": "code",
   "execution_count": 3,
   "outputs": [
    {
     "name": "stdout",
     "output_type": "stream",
     "text": [
      "\u001B[92m|2023-10-19 18:28:57| Dataset:  0, Density: 0.100   Results: NRMSE=0.0579 NMAE=0.0465 Training_time=7.4 s\u001B[0m\n",
      "\u001B[92m|2023-10-19 18:31:13| Dataset:  0, Density: 0.200   Results: NRMSE=0.0402 NMAE=0.0316 Training_time=13.8 s\u001B[0m\n",
      "\u001B[92m|2023-10-19 18:34:07| Dataset:  0, Density: 0.300   Results: NRMSE=0.0346 NMAE=0.0270 Training_time=21.3 s\u001B[0m\n",
      "\u001B[92m|2023-10-19 18:37:10| Dataset:  0, Density: 0.400   Results: NRMSE=0.0323 NMAE=0.0248 Training_time=24.4 s\u001B[0m\n",
      "\u001B[92m|2023-10-19 18:40:36| Dataset:  0, Density: 0.500   Results: NRMSE=0.0302 NMAE=0.0227 Training_time=29.6 s\u001B[0m\n",
      "\u001B[92m|2023-10-19 18:42:18| Dataset:  1, Density: 0.100   Results: NRMSE=0.0471 NMAE=0.0388 Training_time=7.2 s\u001B[0m\n",
      "\u001B[92m|2023-10-19 18:44:22| Dataset:  1, Density: 0.200   Results: NRMSE=0.0341 NMAE=0.0280 Training_time=12.2 s\u001B[0m\n",
      "\u001B[92m|2023-10-19 18:46:24| Dataset:  1, Density: 0.300   Results: NRMSE=0.0305 NMAE=0.0248 Training_time=13.9 s\u001B[0m\n",
      "\u001B[92m|2023-10-19 18:48:33| Dataset:  1, Density: 0.400   Results: NRMSE=0.0297 NMAE=0.0241 Training_time=15.9 s\u001B[0m\n",
      "\u001B[92m|2023-10-19 18:51:54| Dataset:  1, Density: 0.500   Results: NRMSE=0.0263 NMAE=0.0211 Training_time=28.5 s\u001B[0m\n",
      "\u001B[92m|2023-10-19 18:53:34| Dataset:  2, Density: 0.100   Results: NRMSE=0.0575 NMAE=0.0462 Training_time=7.2 s\u001B[0m\n",
      "\u001B[92m|2023-10-19 18:55:35| Dataset:  2, Density: 0.200   Results: NRMSE=0.0400 NMAE=0.0316 Training_time=11.9 s\u001B[0m\n",
      "\u001B[92m|2023-10-19 18:58:17| Dataset:  2, Density: 0.300   Results: NRMSE=0.0339 NMAE=0.0266 Training_time=19.9 s\u001B[0m\n",
      "\u001B[92m|2023-10-19 19:01:25| Dataset:  2, Density: 0.400   Results: NRMSE=0.0303 NMAE=0.0232 Training_time=25.1 s\u001B[0m\n",
      "\u001B[92m|2023-10-19 19:05:42| Dataset:  2, Density: 0.500   Results: NRMSE=0.0281 NMAE=0.0211 Training_time=39.1 s\u001B[0m\n",
      "\u001B[92m|2023-10-19 19:07:20| Dataset:  3, Density: 0.100   Results: NRMSE=0.0583 NMAE=0.0479 Training_time=6.8 s\u001B[0m\n",
      "\u001B[92m|2023-10-19 19:09:18| Dataset:  3, Density: 0.200   Results: NRMSE=0.0446 NMAE=0.0359 Training_time=11.6 s\u001B[0m\n",
      "\u001B[92m|2023-10-19 19:11:38| Dataset:  3, Density: 0.300   Results: NRMSE=0.0411 NMAE=0.0324 Training_time=16.7 s\u001B[0m\n",
      "\u001B[92m|2023-10-19 19:14:13| Dataset:  3, Density: 0.400   Results: NRMSE=0.0393 NMAE=0.0311 Training_time=19.9 s\u001B[0m\n",
      "\u001B[92m|2023-10-19 19:16:44| Dataset:  3, Density: 0.500   Results: NRMSE=0.0380 NMAE=0.0295 Training_time=20.2 s\u001B[0m\n",
      "\u001B[92m|2023-10-19 19:18:33| Dataset:  4, Density: 0.100   Results: NRMSE=0.4291 NMAE=0.3727 Training_time=7.9 s\u001B[0m\n",
      "\u001B[92m|2023-10-19 19:21:20| Dataset:  4, Density: 0.200   Results: NRMSE=0.3177 NMAE=0.2463 Training_time=18.9 s\u001B[0m\n",
      "\u001B[92m|2023-10-19 19:24:42| Dataset:  4, Density: 0.300   Results: NRMSE=0.2648 NMAE=0.1921 Training_time=26.7 s\u001B[0m\n",
      "\u001B[92m|2023-10-19 19:29:05| Dataset:  4, Density: 0.400   Results: NRMSE=0.2357 NMAE=0.1584 Training_time=40.3 s\u001B[0m\n",
      "\u001B[92m|2023-10-19 19:33:44| Dataset:  4, Density: 0.500   Results: NRMSE=0.2186 NMAE=0.1394 Training_time=45.6 s\u001B[0m\n",
      "\u001B[92m|2023-10-19 19:34:36| Dataset:  5, Density: 0.100   Results: NRMSE=0.0770 NMAE=0.0588 Training_time=3.1 s\u001B[0m\n",
      "\u001B[92m|2023-10-19 19:35:34| Dataset:  5, Density: 0.200   Results: NRMSE=0.0685 NMAE=0.0509 Training_time=4.8 s\u001B[0m\n",
      "\u001B[92m|2023-10-19 19:36:49| Dataset:  5, Density: 0.300   Results: NRMSE=0.0650 NMAE=0.0474 Training_time=7.4 s\u001B[0m\n",
      "\u001B[92m|2023-10-19 19:38:16| Dataset:  5, Density: 0.400   Results: NRMSE=0.0639 NMAE=0.0464 Training_time=9.6 s\u001B[0m\n",
      "\u001B[92m|2023-10-19 19:40:06| Dataset:  5, Density: 0.500   Results: NRMSE=0.0625 NMAE=0.0446 Training_time=13.5 s\u001B[0m\n",
      "\u001B[92m|2023-10-19 19:41:47| Dataset:  6, Density: 0.100   Results: NRMSE=0.1466 NMAE=0.0568 Training_time=7.6 s\u001B[0m\n",
      "\u001B[92m|2023-10-19 19:44:05| Dataset:  6, Density: 0.200   Results: NRMSE=0.1370 NMAE=0.0435 Training_time=15.1 s\u001B[0m\n",
      "\u001B[92m|2023-10-19 19:46:32| Dataset:  6, Density: 0.300   Results: NRMSE=0.1321 NMAE=0.0389 Training_time=17.8 s\u001B[0m\n",
      "\u001B[92m|2023-10-19 19:49:17| Dataset:  6, Density: 0.400   Results: NRMSE=0.1344 NMAE=0.0377 Training_time=22.0 s\u001B[0m\n",
      "\u001B[92m|2023-10-19 19:52:12| Dataset:  6, Density: 0.500   Results: NRMSE=0.1280 NMAE=0.0374 Training_time=24.9 s\u001B[0m\n",
      "\u001B[92m|2023-10-19 19:53:05| Dataset:  7, Density: 0.100   Results: NRMSE=0.1657 NMAE=0.1090 Training_time=3.3 s\u001B[0m\n",
      "\u001B[92m|2023-10-19 19:54:23| Dataset:  7, Density: 0.200   Results: NRMSE=0.1551 NMAE=0.0907 Training_time=7.3 s\u001B[0m\n",
      "\u001B[92m|2023-10-19 19:56:13| Dataset:  7, Density: 0.300   Results: NRMSE=0.1508 NMAE=0.0844 Training_time=12.5 s\u001B[0m\n",
      "\u001B[92m|2023-10-19 19:57:58| Dataset:  7, Density: 0.400   Results: NRMSE=0.1480 NMAE=0.0810 Training_time=12.3 s\u001B[0m\n",
      "\u001B[92m|2023-10-19 19:59:50| Dataset:  7, Density: 0.500   Results: NRMSE=0.1471 NMAE=0.0787 Training_time=13.9 s\u001B[0m\n",
      "\u001B[92m|2023-10-19 20:01:00| Dataset:  8, Density: 0.100   Results: NRMSE=0.0826 NMAE=0.0514 Training_time=4.6 s\u001B[0m\n",
      "\u001B[92m|2023-10-19 20:02:26| Dataset:  8, Density: 0.200   Results: NRMSE=0.0790 NMAE=0.0442 Training_time=8.1 s\u001B[0m\n",
      "\u001B[92m|2023-10-19 20:04:08| Dataset:  8, Density: 0.300   Results: NRMSE=0.0785 NMAE=0.0418 Training_time=11.1 s\u001B[0m\n",
      "\u001B[92m|2023-10-19 20:05:51| Dataset:  8, Density: 0.400   Results: NRMSE=0.0753 NMAE=0.0402 Training_time=12.1 s\u001B[0m\n",
      "\u001B[92m|2023-10-19 20:07:36| Dataset:  8, Density: 0.500   Results: NRMSE=0.0731 NMAE=0.0396 Training_time=12.7 s\u001B[0m\n",
      "\u001B[92m|2023-10-19 20:08:27| Dataset:  9, Density: 0.100   Results: NRMSE=0.1239 NMAE=0.0766 Training_time=3.1 s\u001B[0m\n",
      "\u001B[92m|2023-10-19 20:09:51| Dataset:  9, Density: 0.200   Results: NRMSE=0.1149 NMAE=0.0645 Training_time=8.1 s\u001B[0m\n",
      "\u001B[92m|2023-10-19 20:11:20| Dataset:  9, Density: 0.300   Results: NRMSE=0.1117 NMAE=0.0584 Training_time=9.5 s\u001B[0m\n",
      "\u001B[92m|2023-10-19 20:13:22| Dataset:  9, Density: 0.400   Results: NRMSE=0.1083 NMAE=0.0552 Training_time=15.3 s\u001B[0m\n",
      "\u001B[92m|2023-10-19 20:15:16| Dataset:  9, Density: 0.500   Results: NRMSE=0.1096 NMAE=0.0555 Training_time=14.3 s\u001B[0m\n",
      "\u001B[92m|2023-10-19 20:16:02| Dataset: 10, Density: 0.100   Results: NRMSE=0.0738 NMAE=0.0496 Training_time=2.6 s\u001B[0m\n",
      "\u001B[92m|2023-10-19 20:17:05| Dataset: 10, Density: 0.200   Results: NRMSE=0.0691 NMAE=0.0432 Training_time=5.4 s\u001B[0m\n",
      "\u001B[92m|2023-10-19 20:18:23| Dataset: 10, Density: 0.300   Results: NRMSE=0.0662 NMAE=0.0400 Training_time=8.0 s\u001B[0m\n",
      "\u001B[92m|2023-10-19 20:19:49| Dataset: 10, Density: 0.400   Results: NRMSE=0.0640 NMAE=0.0381 Training_time=9.5 s\u001B[0m\n",
      "\u001B[92m|2023-10-19 20:21:46| Dataset: 10, Density: 0.500   Results: NRMSE=0.0647 NMAE=0.0377 Training_time=14.8 s\u001B[0m\n"
     ]
    }
   ],
   "source": [
    "# Setup Logger\n",
    "log = Logger(args)\n",
    "# Run Experiments\n",
    "for dataset in [0, 1, 2, 3, 4, 5, 6, 7, 8, 9, 10]:\n",
    "    for density in [0.1, 0.2, 0.3, 0.4, 0.5]:\n",
    "        args.dimension = 20\n",
    "        args.dataset = dataset\n",
    "        args.density = density\n",
    "        args.verbose = 0\n",
    "        set_settings(args)\n",
    "        metrics = RunExperiments(log, args)\n",
    "        NRMSE, NMAE, TIME = np.mean(metrics['NRMSE']), np.mean(metrics['NMAE']), np.mean(metrics['TIME'])\n",
    "        log.print(f'Dataset: {dataset:2d}, Density: {density:.3f}   Results: NRMSE={NRMSE:.4f} NMAE={NMAE:.4f} Training_time={TIME:.1f} s')\n"
   ],
   "metadata": {
    "collapsed": false
   }
  },
  {
   "cell_type": "code",
   "execution_count": 3,
   "outputs": [
    {
     "name": "stdout",
     "output_type": "stream",
     "text": [
      "\u001B[92m|2023-11-07 12:33:28| Dataset: 15, Density: 0.100   Results: NRMSE=0.0575 NMAE=0.0338 Training_time=20.2 s\u001B[0m\n",
      "\u001B[92m|2023-11-07 12:38:18| Dataset: 15, Density: 0.200   Results: NRMSE=0.0328 NMAE=0.0219 Training_time=34.0 s\u001B[0m\n",
      "\u001B[92m|2023-11-07 12:44:08| Dataset: 15, Density: 0.300   Results: NRMSE=0.0265 NMAE=0.0183 Training_time=49.1 s\u001B[0m\n",
      "\u001B[92m|2023-11-07 12:51:21| Dataset: 15, Density: 0.400   Results: NRMSE=0.0235 NMAE=0.0168 Training_time=65.5 s\u001B[0m\n",
      "\u001B[92m|2023-11-07 12:59:39| Dataset: 15, Density: 0.500   Results: NRMSE=0.0211 NMAE=0.0155 Training_time=79.7 s\u001B[0m\n"
     ]
    }
   ],
   "source": [
    "# Setup Logger\n",
    "log = Logger(args)\n",
    "# Run Experiments\n",
    "for dataset in [15]:\n",
    "    for density in [0.1, 0.2, 0.3, 0.4, 0.5]:\n",
    "        args.dataset = dataset\n",
    "        args.density = density\n",
    "        args.verbose = 0\n",
    "        set_settings(args)\n",
    "        metrics = RunExperiments(log, args)\n",
    "        NRMSE, NMAE, TIME = np.mean(metrics['NRMSE']), np.mean(metrics['NMAE']), np.mean(metrics['TIME'])\n",
    "        log.print(f'Dataset: {dataset:2d}, Density: {density:.3f}   Results: NRMSE={NRMSE:.4f} NMAE={NMAE:.4f} Training_time={TIME:.1f} s')"
   ],
   "metadata": {
    "collapsed": false
   }
  },
  {
   "cell_type": "code",
   "execution_count": null,
   "outputs": [],
   "source": [],
   "metadata": {
    "collapsed": false
   }
  }
 ],
 "metadata": {
  "kernelspec": {
   "display_name": "Python 3",
   "language": "python",
   "name": "python3"
  },
  "language_info": {
   "codemirror_mode": {
    "name": "ipython",
    "version": 2
   },
   "file_extension": ".py",
   "mimetype": "text/x-python",
   "name": "python",
   "nbconvert_exporter": "python",
   "pygments_lexer": "ipython2",
   "version": "2.7.6"
  }
 },
 "nbformat": 4,
 "nbformat_minor": 0
}
